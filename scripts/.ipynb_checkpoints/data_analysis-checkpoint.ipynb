{
 "cells": [
  {
   "cell_type": "code",
   "execution_count": 1,
   "id": "a703cd1c-9b8d-4aba-a3fe-2c661ba77403",
   "metadata": {},
   "outputs": [],
   "source": [
    "import polars as pl\n",
    "import requests\n",
    "from pprint import pprint\n",
    "import glob\n",
    "import pandas as pd\n",
    "import geopandas as gpd\n",
    "#import geopolars as gpl\n"
   ]
  },
  {
   "cell_type": "code",
   "execution_count": 69,
   "id": "ca8931dd-0032-404c-a873-80bcd3a4f292",
   "metadata": {},
   "outputs": [
    {
     "name": "stdout",
     "output_type": "stream",
     "text": [
      "['C:\\\\Users\\\\stgadmin\\\\Desktop\\\\Taxi_AirFlow\\\\data\\\\staging\\\\yellow\\\\2009\\\\yellow_tripdata_2009-01.parquet', 'C:\\\\Users\\\\stgadmin\\\\Desktop\\\\Taxi_AirFlow\\\\data\\\\staging\\\\yellow\\\\2009\\\\yellow_tripdata_2009-02.parquet', 'C:\\\\Users\\\\stgadmin\\\\Desktop\\\\Taxi_AirFlow\\\\data\\\\staging\\\\yellow\\\\2009\\\\yellow_tripdata_2009-03.parquet', 'C:\\\\Users\\\\stgadmin\\\\Desktop\\\\Taxi_AirFlow\\\\data\\\\staging\\\\yellow\\\\2009\\\\yellow_tripdata_2009-04.parquet', 'C:\\\\Users\\\\stgadmin\\\\Desktop\\\\Taxi_AirFlow\\\\data\\\\staging\\\\yellow\\\\2009\\\\yellow_tripdata_2009-05.parquet', 'C:\\\\Users\\\\stgadmin\\\\Desktop\\\\Taxi_AirFlow\\\\data\\\\staging\\\\yellow\\\\2009\\\\yellow_tripdata_2009-06.parquet', 'C:\\\\Users\\\\stgadmin\\\\Desktop\\\\Taxi_AirFlow\\\\data\\\\staging\\\\yellow\\\\2009\\\\yellow_tripdata_2009-07.parquet', 'C:\\\\Users\\\\stgadmin\\\\Desktop\\\\Taxi_AirFlow\\\\data\\\\staging\\\\yellow\\\\2009\\\\yellow_tripdata_2009-08.parquet', 'C:\\\\Users\\\\stgadmin\\\\Desktop\\\\Taxi_AirFlow\\\\data\\\\staging\\\\yellow\\\\2009\\\\yellow_tripdata_2009-09.parquet', 'C:\\\\Users\\\\stgadmin\\\\Desktop\\\\Taxi_AirFlow\\\\data\\\\staging\\\\yellow\\\\2009\\\\yellow_tripdata_2009-10.parquet', 'C:\\\\Users\\\\stgadmin\\\\Desktop\\\\Taxi_AirFlow\\\\data\\\\staging\\\\yellow\\\\2009\\\\yellow_tripdata_2009-11.parquet', 'C:\\\\Users\\\\stgadmin\\\\Desktop\\\\Taxi_AirFlow\\\\data\\\\staging\\\\yellow\\\\2009\\\\yellow_tripdata_2009-12.parquet', 'C:\\\\Users\\\\stgadmin\\\\Desktop\\\\Taxi_AirFlow\\\\data\\\\staging\\\\yellow\\\\2024\\\\yellow_tripdata_2024-01.parquet', 'C:\\\\Users\\\\stgadmin\\\\Desktop\\\\Taxi_AirFlow\\\\data\\\\staging\\\\yellow\\\\2025\\\\yellow_tripdata_2025-01.parquet']\n"
     ]
    }
   ],
   "source": [
    "DIR = r\"C:\\Users\\stgadmin\\Desktop\\Taxi_AirFlow\\data\\staging\\**\\**\\*.parquet\"\n",
    "files = glob.glob(DIR)\n",
    "print(files)"
   ]
  },
  {
   "cell_type": "code",
   "execution_count": 66,
   "id": "8f1ee079-f2f7-4a07-b37f-078193db16e1",
   "metadata": {},
   "outputs": [],
   "source": [
    "data_2009 = pl.scan_parquet(files[0])\n",
    "data_2024 = pl.scan_parquet(files[1])\n",
    "data_2025 = pl.scan_parquet(files[2])\n",
    "#data.show_graph()"
   ]
  },
  {
   "cell_type": "code",
   "execution_count": 67,
   "id": "3a7c35c8-f1da-4bab-a06f-7adde25714ac",
   "metadata": {},
   "outputs": [
    {
     "name": "stdout",
     "output_type": "stream",
     "text": [
      "Schema([('vendor_name', String),\n",
      "        ('Trip_Pickup_DateTime', String),\n",
      "        ('Trip_Dropoff_DateTime', String),\n",
      "        ('Passenger_Count', Int64),\n",
      "        ('Trip_Distance', Float64),\n",
      "        ('Start_Lon', Float64),\n",
      "        ('Start_Lat', Float64),\n",
      "        ('Rate_Code', Float64),\n",
      "        ('store_and_forward', Float64),\n",
      "        ('End_Lon', Float64),\n",
      "        ('End_Lat', Float64),\n",
      "        ('Payment_Type', String),\n",
      "        ('Fare_Amt', Float64),\n",
      "        ('surcharge', Float64),\n",
      "        ('mta_tax', Float64),\n",
      "        ('Tip_Amt', Float64),\n",
      "        ('Tolls_Amt', Float64),\n",
      "        ('Total_Amt', Float64)])\n",
      "Schema([('VendorID', Int32),\n",
      "        ('tpep_pickup_datetime', Datetime(time_unit='ns', time_zone=None)),\n",
      "        ('tpep_dropoff_datetime', Datetime(time_unit='ns', time_zone=None)),\n",
      "        ('passenger_count', Int64),\n",
      "        ('trip_distance', Float64),\n",
      "        ('RatecodeID', Int64),\n",
      "        ('store_and_fwd_flag', String),\n",
      "        ('PULocationID', Int32),\n",
      "        ('DOLocationID', Int32),\n",
      "        ('payment_type', Int64),\n",
      "        ('fare_amount', Float64),\n",
      "        ('extra', Float64),\n",
      "        ('mta_tax', Float64),\n",
      "        ('tip_amount', Float64),\n",
      "        ('tolls_amount', Float64),\n",
      "        ('improvement_surcharge', Float64),\n",
      "        ('total_amount', Float64),\n",
      "        ('congestion_surcharge', Float64),\n",
      "        ('Airport_fee', Float64)])\n",
      "Schema([('VendorID', Int32),\n",
      "        ('tpep_pickup_datetime', Datetime(time_unit='us', time_zone=None)),\n",
      "        ('tpep_dropoff_datetime', Datetime(time_unit='us', time_zone=None)),\n",
      "        ('passenger_count', Int64),\n",
      "        ('trip_distance', Float64),\n",
      "        ('RatecodeID', Int64),\n",
      "        ('store_and_fwd_flag', String),\n",
      "        ('PULocationID', Int32),\n",
      "        ('DOLocationID', Int32),\n",
      "        ('payment_type', Int64),\n",
      "        ('fare_amount', Float64),\n",
      "        ('extra', Float64),\n",
      "        ('mta_tax', Float64),\n",
      "        ('tip_amount', Float64),\n",
      "        ('tolls_amount', Float64),\n",
      "        ('improvement_surcharge', Float64),\n",
      "        ('total_amount', Float64),\n",
      "        ('congestion_surcharge', Float64),\n",
      "        ('Airport_fee', Float64),\n",
      "        ('cbd_congestion_fee', Float64)])\n"
     ]
    }
   ],
   "source": [
    "for file in files : \n",
    "    data = pl.scan_parquet(file)\n",
    "    pprint(data.collect_schema())"
   ]
  },
  {
   "cell_type": "code",
   "execution_count": 5,
   "id": "f2d3309e-4d92-4d0b-8e9d-ebd53a7714de",
   "metadata": {},
   "outputs": [],
   "source": [
    "schema_2024 = data_2024.collect_schema()\n",
    "schema_2009 = data_2009.collect_schema()\n",
    "\n",
    "yellow_target_schema = {\n",
    "    # Identifiants\n",
    "    'VendorID': pl.Int32,\n",
    "    'PULocationID': pl.Int32,\n",
    "    'DOLocationID': pl.Int32,\n",
    "    \n",
    "    \n",
    "    'tpep_pickup_datetime': pl.Datetime(time_unit='ns'),\n",
    "    'tpep_dropoff_datetime': pl.Datetime(time_unit='ns'),\n",
    "    \n",
    "    # Informations sur la course\n",
    "    'passenger_count': pl.Int64, # Entier, car on ne peut pas avoir de demi-passager\n",
    "    'trip_distance': pl.Float64,\n",
    "    'RatecodeID': pl.Int64, \n",
    "    'store_and_fwd_flag': pl.String,\n",
    "    \n",
    "    # Informations financières\n",
    "    'payment_type': pl.Int64,\n",
    "    'fare_amount': pl.Float64,\n",
    "    'extra': pl.Float64,\n",
    "    'mta_tax': pl.Float64,\n",
    "    'tip_amount': pl.Float64,\n",
    "    'tolls_amount': pl.Float64,\n",
    "    'improvement_surcharge': pl.Float64,\n",
    "    'total_amount': pl.Float64,\n",
    "    'congestion_surcharge': pl.Float64,\n",
    "    'Airport_fee': pl.Float64\n",
    "}"
   ]
  },
  {
   "cell_type": "code",
   "execution_count": 6,
   "id": "78f29034-bd36-4808-a226-d5fc988be617",
   "metadata": {},
   "outputs": [
    {
     "data": {
      "text/html": [
       "<div><style>\n",
       ".dataframe > thead > tr,\n",
       ".dataframe > tbody > tr {\n",
       "  text-align: right;\n",
       "  white-space: pre-wrap;\n",
       "}\n",
       "</style>\n",
       "<small>shape: (200, 18)</small><table border=\"1\" class=\"dataframe\"><thead><tr><th>vendor_name</th><th>Trip_Pickup_DateTime</th><th>Trip_Dropoff_DateTime</th><th>Passenger_Count</th><th>Trip_Distance</th><th>Start_Lon</th><th>Start_Lat</th><th>Rate_Code</th><th>store_and_forward</th><th>End_Lon</th><th>End_Lat</th><th>Payment_Type</th><th>Fare_Amt</th><th>surcharge</th><th>mta_tax</th><th>Tip_Amt</th><th>Tolls_Amt</th><th>Total_Amt</th></tr><tr><td>str</td><td>str</td><td>str</td><td>i64</td><td>f64</td><td>f64</td><td>f64</td><td>f64</td><td>f64</td><td>f64</td><td>f64</td><td>str</td><td>f64</td><td>f64</td><td>f64</td><td>f64</td><td>f64</td><td>f64</td></tr></thead><tbody><tr><td>&quot;VTS&quot;</td><td>&quot;2009-01-04 02:52:00&quot;</td><td>&quot;2009-01-04 03:02:00&quot;</td><td>1</td><td>2.63</td><td>-73.991957</td><td>40.721567</td><td>null</td><td>null</td><td>-73.993803</td><td>40.695922</td><td>&quot;CASH&quot;</td><td>8.9</td><td>0.5</td><td>null</td><td>0.0</td><td>0.0</td><td>9.4</td></tr><tr><td>&quot;VTS&quot;</td><td>&quot;2009-01-04 03:31:00&quot;</td><td>&quot;2009-01-04 03:38:00&quot;</td><td>3</td><td>4.55</td><td>-73.982102</td><td>40.73629</td><td>null</td><td>null</td><td>-73.95585</td><td>40.76803</td><td>&quot;Credit&quot;</td><td>12.1</td><td>0.5</td><td>null</td><td>2.0</td><td>0.0</td><td>14.6</td></tr><tr><td>&quot;VTS&quot;</td><td>&quot;2009-01-03 15:43:00&quot;</td><td>&quot;2009-01-03 15:57:00&quot;</td><td>5</td><td>10.35</td><td>-74.002587</td><td>40.739748</td><td>null</td><td>null</td><td>-73.869983</td><td>40.770225</td><td>&quot;Credit&quot;</td><td>23.7</td><td>0.0</td><td>null</td><td>4.74</td><td>0.0</td><td>28.44</td></tr><tr><td>&quot;DDS&quot;</td><td>&quot;2009-01-01 20:52:58&quot;</td><td>&quot;2009-01-01 21:14:00&quot;</td><td>1</td><td>5.0</td><td>-73.974267</td><td>40.790955</td><td>null</td><td>null</td><td>-73.996558</td><td>40.731849</td><td>&quot;CREDIT&quot;</td><td>14.9</td><td>0.5</td><td>null</td><td>3.05</td><td>0.0</td><td>18.45</td></tr><tr><td>&quot;DDS&quot;</td><td>&quot;2009-01-24 16:18:23&quot;</td><td>&quot;2009-01-24 16:24:56&quot;</td><td>1</td><td>0.4</td><td>-74.00158</td><td>40.719382</td><td>null</td><td>null</td><td>-74.008378</td><td>40.72035</td><td>&quot;CASH&quot;</td><td>3.7</td><td>0.0</td><td>null</td><td>0.0</td><td>0.0</td><td>3.7</td></tr><tr><td>&hellip;</td><td>&hellip;</td><td>&hellip;</td><td>&hellip;</td><td>&hellip;</td><td>&hellip;</td><td>&hellip;</td><td>&hellip;</td><td>&hellip;</td><td>&hellip;</td><td>&hellip;</td><td>&hellip;</td><td>&hellip;</td><td>&hellip;</td><td>&hellip;</td><td>&hellip;</td><td>&hellip;</td><td>&hellip;</td></tr><tr><td>&quot;VTS&quot;</td><td>&quot;2009-01-25 02:36:00&quot;</td><td>&quot;2009-01-25 02:51:00&quot;</td><td>1</td><td>3.95</td><td>-74.002017</td><td>40.750527</td><td>null</td><td>null</td><td>-73.956948</td><td>40.776677</td><td>&quot;Credit&quot;</td><td>12.5</td><td>0.5</td><td>null</td><td>2.0</td><td>0.0</td><td>15.0</td></tr><tr><td>&quot;VTS&quot;</td><td>&quot;2009-01-25 10:21:00&quot;</td><td>&quot;2009-01-25 10:26:00&quot;</td><td>1</td><td>1.08</td><td>-73.967242</td><td>40.759787</td><td>null</td><td>null</td><td>-73.967242</td><td>40.759787</td><td>&quot;CASH&quot;</td><td>4.9</td><td>0.0</td><td>null</td><td>0.0</td><td>0.0</td><td>4.9</td></tr><tr><td>&quot;VTS&quot;</td><td>&quot;2009-01-25 09:09:00&quot;</td><td>&quot;2009-01-25 09:22:00&quot;</td><td>5</td><td>6.28</td><td>-74.015198</td><td>40.709815</td><td>null</td><td>null</td><td>-73.976947</td><td>40.752837</td><td>&quot;CASH&quot;</td><td>16.5</td><td>0.0</td><td>null</td><td>0.0</td><td>0.0</td><td>16.5</td></tr><tr><td>&quot;VTS&quot;</td><td>&quot;2009-01-25 15:03:00&quot;</td><td>&quot;2009-01-25 15:13:00&quot;</td><td>1</td><td>1.82</td><td>-73.987873</td><td>40.750483</td><td>null</td><td>null</td><td>-73.970837</td><td>40.764348</td><td>&quot;CASH&quot;</td><td>7.7</td><td>0.0</td><td>null</td><td>0.0</td><td>0.0</td><td>7.7</td></tr><tr><td>&quot;CMT&quot;</td><td>&quot;2009-01-25 18:09:54&quot;</td><td>&quot;2009-01-25 18:24:27&quot;</td><td>1</td><td>1.9</td><td>-73.982442</td><td>40.773285</td><td>null</td><td>null</td><td>-73.991777</td><td>40.749848</td><td>&quot;Cash&quot;</td><td>9.7</td><td>0.0</td><td>null</td><td>0.0</td><td>0.0</td><td>9.7</td></tr></tbody></table></div>"
      ],
      "text/plain": [
       "shape: (200, 18)\n",
       "┌─────────────┬──────────────────────┬───────────────────────┬─────────────────┬───┬─────────┬─────────┬───────────┬───────────┐\n",
       "│ vendor_name ┆ Trip_Pickup_DateTime ┆ Trip_Dropoff_DateTime ┆ Passenger_Count ┆ … ┆ mta_tax ┆ Tip_Amt ┆ Tolls_Amt ┆ Total_Amt │\n",
       "│ ---         ┆ ---                  ┆ ---                   ┆ ---             ┆   ┆ ---     ┆ ---     ┆ ---       ┆ ---       │\n",
       "│ str         ┆ str                  ┆ str                   ┆ i64             ┆   ┆ f64     ┆ f64     ┆ f64       ┆ f64       │\n",
       "╞═════════════╪══════════════════════╪═══════════════════════╪═════════════════╪═══╪═════════╪═════════╪═══════════╪═══════════╡\n",
       "│ VTS         ┆ 2009-01-04 02:52:00  ┆ 2009-01-04 03:02:00   ┆ 1               ┆ … ┆ null    ┆ 0.0     ┆ 0.0       ┆ 9.4       │\n",
       "│ VTS         ┆ 2009-01-04 03:31:00  ┆ 2009-01-04 03:38:00   ┆ 3               ┆ … ┆ null    ┆ 2.0     ┆ 0.0       ┆ 14.6      │\n",
       "│ VTS         ┆ 2009-01-03 15:43:00  ┆ 2009-01-03 15:57:00   ┆ 5               ┆ … ┆ null    ┆ 4.74    ┆ 0.0       ┆ 28.44     │\n",
       "│ DDS         ┆ 2009-01-01 20:52:58  ┆ 2009-01-01 21:14:00   ┆ 1               ┆ … ┆ null    ┆ 3.05    ┆ 0.0       ┆ 18.45     │\n",
       "│ DDS         ┆ 2009-01-24 16:18:23  ┆ 2009-01-24 16:24:56   ┆ 1               ┆ … ┆ null    ┆ 0.0     ┆ 0.0       ┆ 3.7       │\n",
       "│ …           ┆ …                    ┆ …                     ┆ …               ┆ … ┆ …       ┆ …       ┆ …         ┆ …         │\n",
       "│ VTS         ┆ 2009-01-25 02:36:00  ┆ 2009-01-25 02:51:00   ┆ 1               ┆ … ┆ null    ┆ 2.0     ┆ 0.0       ┆ 15.0      │\n",
       "│ VTS         ┆ 2009-01-25 10:21:00  ┆ 2009-01-25 10:26:00   ┆ 1               ┆ … ┆ null    ┆ 0.0     ┆ 0.0       ┆ 4.9       │\n",
       "│ VTS         ┆ 2009-01-25 09:09:00  ┆ 2009-01-25 09:22:00   ┆ 5               ┆ … ┆ null    ┆ 0.0     ┆ 0.0       ┆ 16.5      │\n",
       "│ VTS         ┆ 2009-01-25 15:03:00  ┆ 2009-01-25 15:13:00   ┆ 1               ┆ … ┆ null    ┆ 0.0     ┆ 0.0       ┆ 7.7       │\n",
       "│ CMT         ┆ 2009-01-25 18:09:54  ┆ 2009-01-25 18:24:27   ┆ 1               ┆ … ┆ null    ┆ 0.0     ┆ 0.0       ┆ 9.7       │\n",
       "└─────────────┴──────────────────────┴───────────────────────┴─────────────────┴───┴─────────┴─────────┴───────────┴───────────┘"
      ]
     },
     "execution_count": 6,
     "metadata": {},
     "output_type": "execute_result"
    }
   ],
   "source": [
    "data_2009.collect().head(200)"
   ]
  },
  {
   "cell_type": "code",
   "execution_count": null,
   "id": "a61c2745-a1a8-46e0-a0d1-0ffbb4ec8e04",
   "metadata": {},
   "outputs": [],
   "source": [
    "\n"
   ]
  },
  {
   "cell_type": "code",
   "execution_count": null,
   "id": "5e0d6ecf-87c3-4b6d-99a4-2f448cecaba5",
   "metadata": {},
   "outputs": [],
   "source": [
    "\n",
    "\n",
    "\n"
   ]
  },
  {
   "cell_type": "code",
   "execution_count": null,
   "id": "5e403426-b969-4b39-b706-70bf00d2afb5",
   "metadata": {},
   "outputs": [],
   "source": [
    "\n"
   ]
  },
  {
   "cell_type": "markdown",
   "id": "6ef2a856-6f07-40b2-aef0-8ee8280a1f21",
   "metadata": {},
   "source": [
    "# vendor_name => vendor_id "
   ]
  },
  {
   "cell_type": "code",
   "execution_count": 7,
   "id": "4c41b36c-5def-4a7e-a6cf-88deae61d35f",
   "metadata": {},
   "outputs": [
    {
     "name": "stdout",
     "output_type": "stream",
     "text": [
      "shape: (3, 1)\n",
      "┌─────────────┐\n",
      "│ vendor_name │\n",
      "│ ---         │\n",
      "│ str         │\n",
      "╞═════════════╡\n",
      "│ VTS         │\n",
      "│ DDS         │\n",
      "│ CMT         │\n",
      "└─────────────┘\n"
     ]
    }
   ],
   "source": [
    "print( data_2009.select(\"vendor_name\").unique().collect())"
   ]
  },
  {
   "cell_type": "code",
   "execution_count": 8,
   "id": "36fb00e4-9a28-4250-86fa-b1bdd3ccac5d",
   "metadata": {},
   "outputs": [],
   "source": [
    "VENDOR_STRING_TO_ID_MAP = {\n",
    "    \"CMT\": 1,\n",
    "    \"VTS\": 2,\n",
    "    \"DDS\": 3,\n",
    "}\n",
    "\n",
    "def reconcile_vendor_column(ldf: pl.LazyFrame) -> pl.LazyFrame:\n",
    "    \"\"\"\n",
    "    Cette fonction réconcilie la colonne du fournisseur, qu'elle s'appelle\n",
    "    'vendor_name' (String) ou 'VendorID' (Int).\n",
    "    \"\"\"\n",
    "    input_columns = ldf.collect_schema().names()\n",
    "\n",
    "    if \"vendor_name\" in input_columns:\n",
    "        return ldf.with_columns(\n",
    "            pl.col(\"vendor_name\")\n",
    "              .replace_strict(VENDOR_STRING_TO_ID_MAP, default=None) \n",
    "              .alias(\"VendorID\") # On crée la colonne cible 'VendorID'\n",
    "        ).drop(\"vendor_name\") # On supprime l'ancienne colonne\n",
    "\n",
    "    elif \"VendorID\" in input_columns:\n",
    "        # --- SCÉNARIO 2 : Fichier récent avec des IDs numériques ---\n",
    "        print(\"Détection de 'VendorID'. Standardisation du type.\")\n",
    "        # On s'assure juste que le type est correct\n",
    "        return ldf.with_columns(\n",
    "            pl.col(\"VendorID\").cast(pl.Int64)\n",
    "        )\n",
    "        \n",
    "    else:\n",
    "        # --- SCÉNARIO 3 : Aucune colonne fournisseur trouvée ---\n",
    "        print(\"Aucune colonne de fournisseur trouvée. Ajout d'une colonne 'VendorID' vide.\")\n",
    "        # On crée une colonne vide pour que le schéma final soit cohérent\n",
    "        return ldf.with_columns(\n",
    "            pl.lit(None, dtype=pl.Int32).alias(\"VendorID\")\n",
    "        )\n"
   ]
  },
  {
   "cell_type": "code",
   "execution_count": 9,
   "id": "9d6f4251-0147-4908-8b89-f1299b555066",
   "metadata": {},
   "outputs": [
    {
     "name": "stdout",
     "output_type": "stream",
     "text": [
      "Schema({'Trip_Pickup_DateTime': String, 'Trip_Dropoff_DateTime': String, 'Passenger_Count': Int64, 'Trip_Distance': Float64, 'Start_Lon': Float64, 'Start_Lat': Float64, 'Rate_Code': Float64, 'store_and_forward': Float64, 'End_Lon': Float64, 'End_Lat': Float64, 'Payment_Type': String, 'Fare_Amt': Float64, 'surcharge': Float64, 'mta_tax': Float64, 'Tip_Amt': Float64, 'Tolls_Amt': Float64, 'Total_Amt': Float64, 'VendorID': Int64})\n"
     ]
    }
   ],
   "source": [
    "# Pour un vieux LazyFrame (data_2009)\n",
    "ldf_reconciled_2009 = reconcile_vendor_column(data_2009)\n",
    "print(ldf_reconciled_2009.collect_schema())"
   ]
  },
  {
   "cell_type": "code",
   "execution_count": 10,
   "id": "7fad0860-488c-4fa9-be67-15bc66d73349",
   "metadata": {},
   "outputs": [
    {
     "name": "stdout",
     "output_type": "stream",
     "text": [
      "Détection de 'VendorID'. Standardisation du type.\n",
      "Schema({'VendorID': Int64, 'tpep_pickup_datetime': Datetime(time_unit='ns', time_zone=None), 'tpep_dropoff_datetime': Datetime(time_unit='ns', time_zone=None), 'passenger_count': Int64, 'trip_distance': Float64, 'RatecodeID': Int64, 'store_and_fwd_flag': String, 'PULocationID': Int32, 'DOLocationID': Int32, 'payment_type': Int64, 'fare_amount': Float64, 'extra': Float64, 'mta_tax': Float64, 'tip_amount': Float64, 'tolls_amount': Float64, 'improvement_surcharge': Float64, 'total_amount': Float64, 'congestion_surcharge': Float64, 'Airport_fee': Float64})\n"
     ]
    }
   ],
   "source": [
    "# Pour un nouveau LazyFrame (data_2024)\n",
    "ldf_reconciled_2024 = reconcile_vendor_column(data_2024)\n",
    "print(ldf_reconciled_2024.collect_schema())"
   ]
  },
  {
   "cell_type": "code",
   "execution_count": null,
   "id": "ee779ed5-d0cb-4d7a-b22a-a4105b9f4216",
   "metadata": {},
   "outputs": [],
   "source": []
  },
  {
   "cell_type": "markdown",
   "id": "d2664044-7214-40ec-96ab-2328cb1d08c4",
   "metadata": {},
   "source": [
    "# longitude/ latitude => id via geopandas =< pas recommandé"
   ]
  },
  {
   "cell_type": "code",
   "execution_count": 14,
   "id": "bd609ee1-5d6a-4f4f-8d22-e233cb07e170",
   "metadata": {},
   "outputs": [
    {
     "name": "stderr",
     "output_type": "stream",
     "text": [
      "C:\\Users\\stgadmin\\anaconda3\\envs\\airflow-env\\Lib\\site-packages\\pyogrio\\raw.py:198: RuntimeWarning: driver ESRI Shapefile does not support open option LAZY\n",
      "  return ogr_read(\n"
     ]
    }
   ],
   "source": [
    "\n",
    "# Assurez-vous que le GeoDataFrame des zones est chargé une seule fois\n",
    "zones_gdf = gpd.read_file(r\"C:\\Users\\stgadmin\\Desktop\\Taxi_AirFlow\\data\\taxi_zones\\taxi_zones.shp\", lazy=True)\n",
    "zones_gdf_reprojected = zones_gdf.to_crs(\"EPSG:4326\")\n",
    "\n",
    "def add_location_ids(df: pl.DataFrame) -> pl.DataFrame:\n",
    "    \n",
    "    pdf = df.to_pandas()\n",
    "    start_points_gdf = gpd.GeoDataFrame(\n",
    "        pdf, geometry=gpd.points_from_xy(pdf.Start_Lon, pdf.Start_Lat), crs=\"EPSG:4326\"\n",
    "    )\n",
    "    end_points_gdf = gpd.GeoDataFrame(\n",
    "        pdf, geometry=gpd.points_from_xy(pdf.End_Lon, pdf.End_Lat), crs=\"EPSG:4326\"\n",
    "    )\n",
    "    pu_joined_gdf = gpd.sjoin(start_points_gdf, zones_gdf_reprojected, how=\"left\", predicate=\"within\")\n",
    "    do_joined_gdf = gpd.sjoin(end_points_gdf, zones_gdf_reprojected, how=\"left\", predicate=\"within\")\n",
    "    \n",
    "    result_df = pl.DataFrame({\n",
    "        'index': df['index'],\n",
    "        'PULocationID': pu_joined_gdf['LocationID'].astype('Int32'),\n",
    "        'DOLocationID': do_joined_gdf['LocationID'].astype('Int32')\n",
    "    })\n",
    "    return result_df\n"
   ]
  },
  {
   "cell_type": "code",
   "execution_count": null,
   "id": "01be3ce0-924f-4eaf-beff-097329ac6a7c",
   "metadata": {},
   "outputs": [],
   "source": [
    "ldf_with_index = data_2009.with_row_index(\"index\")\n",
    "\n",
    "cols_for_mapping_df = ldf_with_index.select(\n",
    "    pl.col(\"index\"),\n",
    "    pl.col(\"Start_Lon\"),\n",
    "    pl.col(\"Start_Lat\"),\n",
    "    pl.col(\"End_Lon\"),\n",
    "    pl.col(\"End_Lat\")\n",
    ").collect()\n",
    "location_ids_df = add_location_ids(cols_for_mapping_df)\n",
    "\n",
    "\n",
    "final_ldf = ldf_with_index.join(location_ids_df.lazy(), on=\"index\", how=\"left\")"
   ]
  },
  {
   "cell_type": "code",
   "execution_count": 43,
   "id": "c31d93a0-f69e-4f47-93e2-6721957c64b4",
   "metadata": {},
   "outputs": [
    {
     "name": "stdout",
     "output_type": "stream",
     "text": [
      "Schema({'index': UInt32, 'vendor_name': String, 'Trip_Pickup_DateTime': String, 'Trip_Dropoff_DateTime': String, 'Passenger_Count': Int64, 'Trip_Distance': Float64, 'Start_Lon': Float64, 'Start_Lat': Float64, 'Rate_Code': Float64, 'store_and_forward': Float64, 'End_Lon': Float64, 'End_Lat': Float64, 'Payment_Type': String, 'Fare_Amt': Float64, 'surcharge': Float64, 'mta_tax': Float64, 'Tip_Amt': Float64, 'Tolls_Amt': Float64, 'Total_Amt': Float64, 'PULocationID': Int32, 'DOLocationID': Int32})\n"
     ]
    }
   ],
   "source": [
    "print(final_ldf.collect_schema())"
   ]
  },
  {
   "cell_type": "code",
   "execution_count": 44,
   "id": "e9466526-c511-46ce-8280-abfe0f36ebf2",
   "metadata": {},
   "outputs": [
    {
     "data": {
      "text/html": [
       "<div><style>\n",
       ".dataframe > thead > tr,\n",
       ".dataframe > tbody > tr {\n",
       "  text-align: right;\n",
       "  white-space: pre-wrap;\n",
       "}\n",
       "</style>\n",
       "<small>shape: (5, 21)</small><table border=\"1\" class=\"dataframe\"><thead><tr><th>index</th><th>vendor_name</th><th>Trip_Pickup_DateTime</th><th>Trip_Dropoff_DateTime</th><th>Passenger_Count</th><th>Trip_Distance</th><th>Start_Lon</th><th>Start_Lat</th><th>Rate_Code</th><th>store_and_forward</th><th>End_Lon</th><th>End_Lat</th><th>Payment_Type</th><th>Fare_Amt</th><th>surcharge</th><th>mta_tax</th><th>Tip_Amt</th><th>Tolls_Amt</th><th>Total_Amt</th><th>PULocationID</th><th>DOLocationID</th></tr><tr><td>u32</td><td>str</td><td>str</td><td>str</td><td>i64</td><td>f64</td><td>f64</td><td>f64</td><td>f64</td><td>f64</td><td>f64</td><td>f64</td><td>str</td><td>f64</td><td>f64</td><td>f64</td><td>f64</td><td>f64</td><td>f64</td><td>i32</td><td>i32</td></tr></thead><tbody><tr><td>0</td><td>&quot;VTS&quot;</td><td>&quot;2009-01-04 02:52:00&quot;</td><td>&quot;2009-01-04 03:02:00&quot;</td><td>1</td><td>2.63</td><td>-73.991957</td><td>40.721567</td><td>null</td><td>null</td><td>-73.993803</td><td>40.695922</td><td>&quot;CASH&quot;</td><td>8.9</td><td>0.5</td><td>null</td><td>0.0</td><td>0.0</td><td>9.4</td><td>148</td><td>33</td></tr><tr><td>1</td><td>&quot;VTS&quot;</td><td>&quot;2009-01-04 03:31:00&quot;</td><td>&quot;2009-01-04 03:38:00&quot;</td><td>3</td><td>4.55</td><td>-73.982102</td><td>40.73629</td><td>null</td><td>null</td><td>-73.95585</td><td>40.76803</td><td>&quot;Credit&quot;</td><td>12.1</td><td>0.5</td><td>null</td><td>2.0</td><td>0.0</td><td>14.6</td><td>107</td><td>141</td></tr><tr><td>2</td><td>&quot;VTS&quot;</td><td>&quot;2009-01-03 15:43:00&quot;</td><td>&quot;2009-01-03 15:57:00&quot;</td><td>5</td><td>10.35</td><td>-74.002587</td><td>40.739748</td><td>null</td><td>null</td><td>-73.869983</td><td>40.770225</td><td>&quot;Credit&quot;</td><td>23.7</td><td>0.0</td><td>null</td><td>4.74</td><td>0.0</td><td>28.44</td><td>249</td><td>70</td></tr><tr><td>3</td><td>&quot;DDS&quot;</td><td>&quot;2009-01-01 20:52:58&quot;</td><td>&quot;2009-01-01 21:14:00&quot;</td><td>1</td><td>5.0</td><td>-73.974267</td><td>40.790955</td><td>null</td><td>null</td><td>-73.996558</td><td>40.731849</td><td>&quot;CREDIT&quot;</td><td>14.9</td><td>0.5</td><td>null</td><td>3.05</td><td>0.0</td><td>18.45</td><td>238</td><td>113</td></tr><tr><td>4</td><td>&quot;DDS&quot;</td><td>&quot;2009-01-24 16:18:23&quot;</td><td>&quot;2009-01-24 16:24:56&quot;</td><td>1</td><td>0.4</td><td>-74.00158</td><td>40.719382</td><td>null</td><td>null</td><td>-74.008378</td><td>40.72035</td><td>&quot;CASH&quot;</td><td>3.7</td><td>0.0</td><td>null</td><td>0.0</td><td>0.0</td><td>3.7</td><td>144</td><td>231</td></tr></tbody></table></div>"
      ],
      "text/plain": [
       "shape: (5, 21)\n",
       "┌───────┬─────────────┬──────────────────────┬───────────────────────┬───┬───────────┬───────────┬──────────────┬──────────────┐\n",
       "│ index ┆ vendor_name ┆ Trip_Pickup_DateTime ┆ Trip_Dropoff_DateTime ┆ … ┆ Tolls_Amt ┆ Total_Amt ┆ PULocationID ┆ DOLocationID │\n",
       "│ ---   ┆ ---         ┆ ---                  ┆ ---                   ┆   ┆ ---       ┆ ---       ┆ ---          ┆ ---          │\n",
       "│ u32   ┆ str         ┆ str                  ┆ str                   ┆   ┆ f64       ┆ f64       ┆ i32          ┆ i32          │\n",
       "╞═══════╪═════════════╪══════════════════════╪═══════════════════════╪═══╪═══════════╪═══════════╪══════════════╪══════════════╡\n",
       "│ 0     ┆ VTS         ┆ 2009-01-04 02:52:00  ┆ 2009-01-04 03:02:00   ┆ … ┆ 0.0       ┆ 9.4       ┆ 148          ┆ 33           │\n",
       "│ 1     ┆ VTS         ┆ 2009-01-04 03:31:00  ┆ 2009-01-04 03:38:00   ┆ … ┆ 0.0       ┆ 14.6      ┆ 107          ┆ 141          │\n",
       "│ 2     ┆ VTS         ┆ 2009-01-03 15:43:00  ┆ 2009-01-03 15:57:00   ┆ … ┆ 0.0       ┆ 28.44     ┆ 249          ┆ 70           │\n",
       "│ 3     ┆ DDS         ┆ 2009-01-01 20:52:58  ┆ 2009-01-01 21:14:00   ┆ … ┆ 0.0       ┆ 18.45     ┆ 238          ┆ 113          │\n",
       "│ 4     ┆ DDS         ┆ 2009-01-24 16:18:23  ┆ 2009-01-24 16:24:56   ┆ … ┆ 0.0       ┆ 3.7       ┆ 144          ┆ 231          │\n",
       "└───────┴─────────────┴──────────────────────┴───────────────────────┴───┴───────────┴───────────┴──────────────┴──────────────┘"
      ]
     },
     "execution_count": 44,
     "metadata": {},
     "output_type": "execute_result"
    }
   ],
   "source": [
    "final_ldf.head().collect()"
   ]
  },
  {
   "cell_type": "markdown",
   "id": "8844cfc7-7328-42a2-8f60-f1307cfd1171",
   "metadata": {},
   "source": [
    "# longitude/ latitude => id via polars-st => recommandé"
   ]
  },
  {
   "cell_type": "code",
   "execution_count": 34,
   "id": "8ab2c4bf-53e3-4e6c-9ef1-5a488dd4c2ef",
   "metadata": {},
   "outputs": [],
   "source": [
    "import polars as pl\n",
    "import polars_st as st\n",
    "import fiona\n",
    "from shapely.geometry import shape"
   ]
  },
  {
   "cell_type": "code",
   "execution_count": 35,
   "id": "b4075ddf-645d-444c-87b5-166361810e18",
   "metadata": {},
   "outputs": [
    {
     "name": "stdout",
     "output_type": "stream",
     "text": [
      "shape: (2, 2)\n",
      "┌─────────────────────────────────┬────────────┐\n",
      "│ geometry                        ┆ LocationID │\n",
      "│ ---                             ┆ ---        │\n",
      "│ binary                          ┆ i32        │\n",
      "╞═════════════════════════════════╪════════════╡\n",
      "│ b\"\\x01\\x03\\x00\\x00\\x20\\xe6\\x10… ┆ 1          │\n",
      "│ b\"\\x01\\x06\\x00\\x00\\x20\\xe6\\x10… ┆ 2          │\n",
      "└─────────────────────────────────┴────────────┘\n"
     ]
    }
   ],
   "source": [
    "taxi_shape = gpd.read_file(r\"C:\\Users\\stgadmin\\Desktop\\Taxi_AirFlow\\data\\taxi_zones\\\\\")\n",
    "taxi_shape = st.from_geopandas(taxi_shape.to_crs(\"EPSG:4326\")).select(pl.col('geometry', 'LocationID'))\n",
    "print(taxi_shape.head(2))\n"
   ]
  },
  {
   "cell_type": "code",
   "execution_count": 36,
   "id": "933b8fc0-68a1-4772-b50a-5a397addb6b0",
   "metadata": {},
   "outputs": [],
   "source": [
    "\n",
    "final_lazy_df = (\n",
    "    data_2009.with_columns(\n",
    "        geometry=st.point(pl.concat_arr(pl.col(\"Start_Lon\"), pl.col(\"Start_Lat\")))\n",
    "    )\n",
    "    .st.sjoin(taxi_shape.lazy(), predicate=\"contains\", how=\"left\",left_on= \"geometry\", right_on = \"geometry\")\n",
    "    .rename({\"LocationID\": \"PULocationID\"})\n",
    "    .drop(\"geometry\", \"geometry_right\")\n",
    "    .with_columns(\n",
    "        geometry=st.point(pl.concat_arr(pl.col(\"End_Lon\"), pl.col(\"End_Lat\")))\n",
    "    )\n",
    "    .st.sjoin(taxi_shape.lazy(),predicate=\"contains\", how=\"left\",left_on= \"geometry\", right_on = \"geometry\")\n",
    "    .rename({\"LocationID\": \"DOLocationID\"})\n",
    "    .drop(\"geometry\", \"geometry_right\")\n",
    "    .select(\n",
    "        pl.all().exclude\n",
    "        ([\"Start_Lon\", \"Start_Lat\", \"End_Lon\", \"End_Lat\"])\n",
    "    )\n",
    "    \n",
    "    \n",
    ")"
   ]
  },
  {
   "cell_type": "code",
   "execution_count": null,
   "id": "675c72f8-f5a7-4fa2-b11b-dcd914686190",
   "metadata": {},
   "outputs": [],
   "source": [
    "final_lazy_df.collect()"
   ]
  },
  {
   "cell_type": "code",
   "execution_count": 11,
   "id": "bdd1efcb-64d5-49d6-886c-a50e837c10d6",
   "metadata": {},
   "outputs": [],
   "source": [
    "from transformation import add_location_ids, order_columns_by_schema\n"
   ]
  },
  {
   "cell_type": "code",
   "execution_count": null,
   "id": "a86786c2-c41c-4fc9-b942-ac884d37c06a",
   "metadata": {},
   "outputs": [],
   "source": [
    "\n",
    "SHAPEFILE_PATH = r\"C:\\Users\\stgadmin\\Desktop\\Taxi_AirFlow\\data\\taxi_zones\\\\\"\n",
    "zones_gdf = gpd.read_file(SHAPEFILE_PATH)\n",
    "zones_df = st.from_geopandas(zones_gdf.to_crs(\"EPSG:4326\"))\n",
    "\n",
    "# On ne garde que les colonnes utiles et on le passe en LazyFrame\n",
    "zones_lazy = zones_df.select(['geometry', 'LocationID']).lazy()"
   ]
  },
  {
   "cell_type": "code",
   "execution_count": 38,
   "id": "cbf9d6a2-0394-421b-8100-9d591c5e7869",
   "metadata": {},
   "outputs": [
    {
     "name": "stderr",
     "output_type": "stream",
     "text": [
      "C:\\Users\\stgadmin\\Desktop\\Taxi_AirFlow\\scripts\\transformation.py:12: PerformanceWarning: Determining the column names of a LazyFrame requires resolving its schema, which is a potentially expensive operation. Use `LazyFrame.collect_schema().names()` to get the column names without this warning.\n",
      "  if not required_cols.issubset(data_lazy.columns):\n"
     ]
    },
    {
     "name": "stdout",
     "output_type": "stream",
     "text": [
      "Le plan de transformation est prêt. Aperçu du résultat final :\n",
      "shape: (14_092_413, 16)\n",
      "┌─────────────┬──────────────────────┬───────────────────────┬─────────────────┬───┬───────────┬───────────┬──────────────┬──────────────┐\n",
      "│ vendor_name ┆ Trip_Pickup_DateTime ┆ Trip_Dropoff_DateTime ┆ Passenger_Count ┆ … ┆ Tolls_Amt ┆ Total_Amt ┆ PULocationID ┆ DOLocationID │\n",
      "│ ---         ┆ ---                  ┆ ---                   ┆ ---             ┆   ┆ ---       ┆ ---       ┆ ---          ┆ ---          │\n",
      "│ str         ┆ str                  ┆ str                   ┆ i64             ┆   ┆ f64       ┆ f64       ┆ i32          ┆ i32          │\n",
      "╞═════════════╪══════════════════════╪═══════════════════════╪═════════════════╪═══╪═══════════╪═══════════╪══════════════╪══════════════╡\n",
      "│ VTS         ┆ 2009-01-04 02:52:00  ┆ 2009-01-04 03:02:00   ┆ 1               ┆ … ┆ 0.0       ┆ 9.4       ┆ 148          ┆ 33           │\n",
      "│ VTS         ┆ 2009-01-04 03:31:00  ┆ 2009-01-04 03:38:00   ┆ 3               ┆ … ┆ 0.0       ┆ 14.6      ┆ 107          ┆ 141          │\n",
      "│ VTS         ┆ 2009-01-03 15:43:00  ┆ 2009-01-03 15:57:00   ┆ 5               ┆ … ┆ 0.0       ┆ 28.44     ┆ 249          ┆ 70           │\n",
      "│ DDS         ┆ 2009-01-01 20:52:58  ┆ 2009-01-01 21:14:00   ┆ 1               ┆ … ┆ 0.0       ┆ 18.45     ┆ 238          ┆ 113          │\n",
      "│ DDS         ┆ 2009-01-24 16:18:23  ┆ 2009-01-24 16:24:56   ┆ 1               ┆ … ┆ 0.0       ┆ 3.7       ┆ 144          ┆ 231          │\n",
      "│ …           ┆ …                    ┆ …                     ┆ …               ┆ … ┆ …         ┆ …         ┆ …            ┆ …            │\n",
      "│ VTS         ┆ 2009-01-27 14:36:00  ┆ 2009-01-27 14:46:00   ┆ 5               ┆ … ┆ 0.0       ┆ 6.5       ┆ 170          ┆ 186          │\n",
      "│ VTS         ┆ 2009-01-27 13:56:00  ┆ 2009-01-27 14:02:00   ┆ 1               ┆ … ┆ 0.0       ┆ 10.0      ┆ 163          ┆ 263          │\n",
      "│ CMT         ┆ 2009-01-23 08:39:44  ┆ 2009-01-23 09:02:15   ┆ 1               ┆ … ┆ 0.0       ┆ 14.5      ┆ 170          ┆ 231          │\n",
      "│ VTS         ┆ 2009-01-24 23:05:00  ┆ 2009-01-24 23:15:00   ┆ 3               ┆ … ┆ 0.0       ┆ 11.4      ┆ 164          ┆ 263          │\n",
      "│ CMT         ┆ 2009-01-23 14:39:02  ┆ 2009-01-23 15:35:15   ┆ 1               ┆ … ┆ 0.0       ┆ 50.0      ┆ null         ┆ null         │\n",
      "└─────────────┴──────────────────────┴───────────────────────┴─────────────────┴───┴───────────┴───────────┴──────────────┴──────────────┘\n",
      "\n",
      "Schéma du LazyFrame transformé :\n",
      "Schema([('vendor_name', String),\n",
      "        ('Trip_Pickup_DateTime', String),\n",
      "        ('Trip_Dropoff_DateTime', String),\n",
      "        ('Passenger_Count', Int64),\n",
      "        ('Trip_Distance', Float64),\n",
      "        ('Rate_Code', Float64),\n",
      "        ('store_and_forward', Float64),\n",
      "        ('Payment_Type', String),\n",
      "        ('Fare_Amt', Float64),\n",
      "        ('surcharge', Float64),\n",
      "        ('mta_tax', Float64),\n",
      "        ('Tip_Amt', Float64),\n",
      "        ('Tolls_Amt', Float64),\n",
      "        ('Total_Amt', Float64),\n",
      "        ('PULocationID', Int32),\n",
      "        ('DOLocationID', Int32)])\n"
     ]
    }
   ],
   "source": [
    "\n",
    "\n",
    "\n",
    "transformed_lazy_df = add_location_ids(\n",
    "    data_lazy=data_2009, \n",
    "    zones_df=zones_lazy\n",
    ")\n",
    "\n",
    "print(\"Le plan de transformation est prêt. Aperçu du résultat final :\")\n",
    "\n",
    "result_preview = transformed_lazy_df.collect()\n",
    "print(result_preview)\n",
    "\n",
    "print(\"\\nSchéma du LazyFrame transformé :\")\n",
    "pprint(transformed_lazy_df.collect_schema())"
   ]
  },
  {
   "cell_type": "markdown",
   "id": "2811b32c-f7bd-4526-b0e6-7f737fd868d2",
   "metadata": {},
   "source": [
    "# renommer les colonnes"
   ]
  },
  {
   "cell_type": "code",
   "execution_count": 14,
   "id": "e5e0d40a-96ca-4274-9515-e7860cb51651",
   "metadata": {},
   "outputs": [],
   "source": [
    "\n",
    "RENAME_MAP = {\n",
    "        \"Trip_Pickup_DateTime\": \"tpep_pickup_datetime\",\n",
    "        \"Trip_Dropoff_DateTime\": \"tpep_dropoff_datetime\",\n",
    "        \"Passenger_Count\": \"passenger_count\",\n",
    "        \"Trip_Distance\": \"trip_distance\",\n",
    "        \"Rate_Code\": \"RatecodeID\",\n",
    "        \"store_and_forward\": \"store_and_fwd_flag\",\n",
    "        \"Payment_Type\": \"payment_type\",\n",
    "        \"Fare_Amt\": \"fare_amount\",\n",
    "        \"surcharge\": \"extra\",\n",
    "        \"Tip_Amt\": \"tip_amount\",\n",
    "        \"Tolls_Amt\": \"tolls_amount\",\n",
    "        \"Total_Amt\": \"total_amount\"\n",
    "    }"
   ]
  },
  {
   "cell_type": "code",
   "execution_count": 15,
   "id": "f6843293-699b-4bb7-ab55-47e793b2defc",
   "metadata": {},
   "outputs": [],
   "source": [
    "\n",
    "def col_rename(lazy_df: pl.LazyFrame) -> pl.LazyFrame:\n",
    "    \"\"\"Renomme les colonnes pour correspondre au schéma de 2024.\"\"\"\n",
    "    print('renommage')\n",
    "    colonnes_a_renommer = RENAME_MAP\n",
    "    \n",
    "    return lazy_df.rename(colonnes_a_renommer)"
   ]
  },
  {
   "cell_type": "code",
   "execution_count": 16,
   "id": "1dc96bfb-8736-4c5c-b3c9-f12df1c6d4cc",
   "metadata": {},
   "outputs": [
    {
     "name": "stdout",
     "output_type": "stream",
     "text": [
      "renommage\n",
      "Schema({'vendor_name': String, 'tpep_pickup_datetime': String, 'tpep_dropoff_datetime': String, 'passenger_count': Int64, 'trip_distance': Float64, 'Start_Lon': Float64, 'Start_Lat': Float64, 'RatecodeID': Float64, 'store_and_fwd_flag': Float64, 'End_Lon': Float64, 'End_Lat': Float64, 'payment_type': String, 'fare_amount': Float64, 'extra': Float64, 'mta_tax': Float64, 'tip_amount': Float64, 'tolls_amount': Float64, 'total_amount': Float64})\n"
     ]
    }
   ],
   "source": [
    "print(col_rename(data_2009).collect_schema())"
   ]
  },
  {
   "cell_type": "code",
   "execution_count": 17,
   "id": "54b4a6f8-3b70-497a-ab34-7300a4d315af",
   "metadata": {},
   "outputs": [
    {
     "data": {
      "text/plain": [
       "Schema([('VendorID', Int32),\n",
       "        ('tpep_pickup_datetime', Datetime(time_unit='ns', time_zone=None)),\n",
       "        ('tpep_dropoff_datetime', Datetime(time_unit='ns', time_zone=None)),\n",
       "        ('passenger_count', Int64),\n",
       "        ('trip_distance', Float64),\n",
       "        ('RatecodeID', Int64),\n",
       "        ('store_and_fwd_flag', String),\n",
       "        ('PULocationID', Int32),\n",
       "        ('DOLocationID', Int32),\n",
       "        ('payment_type', Int64),\n",
       "        ('fare_amount', Float64),\n",
       "        ('extra', Float64),\n",
       "        ('mta_tax', Float64),\n",
       "        ('tip_amount', Float64),\n",
       "        ('tolls_amount', Float64),\n",
       "        ('improvement_surcharge', Float64),\n",
       "        ('total_amount', Float64),\n",
       "        ('congestion_surcharge', Float64),\n",
       "        ('Airport_fee', Float64)])"
      ]
     },
     "execution_count": 17,
     "metadata": {},
     "output_type": "execute_result"
    }
   ],
   "source": [
    "data_2024.collect_schema()"
   ]
  },
  {
   "cell_type": "code",
   "execution_count": null,
   "id": "d1b4c7a4-39ec-464b-8940-959affe39a90",
   "metadata": {},
   "outputs": [],
   "source": []
  },
  {
   "cell_type": "markdown",
   "id": "46a79c84-a1e6-4e61-8781-a68baa0c76b4",
   "metadata": {},
   "source": [
    "# convertir les types "
   ]
  },
  {
   "cell_type": "code",
   "execution_count": 18,
   "id": "a116f736-9aac-4c73-84a0-05b02300d722",
   "metadata": {},
   "outputs": [],
   "source": [
    "def type_convert_basic(lazy_df: pl.LazyFrame) -> pl.LazyFrame:\n",
    "    \"\"\"Convertit les dates et certains nombres dans les types de 2024 pour l'instant\"\"\"\n",
    "    print('conversion de type')\n",
    "    return lazy_df.with_columns(\n",
    "    pl.col(\"tpep_pickup_datetime\").str.to_datetime(),\n",
    "    pl.col(\"tpep_dropoff_datetime\").str.to_datetime(),\n",
    "    pl.col(\"RatecodeID\").cast(pl.Int64)\n",
    ")"
   ]
  },
  {
   "cell_type": "code",
   "execution_count": 19,
   "id": "7cae05d1-39e5-4760-b2e8-932f5e5274f1",
   "metadata": {},
   "outputs": [
    {
     "name": "stdout",
     "output_type": "stream",
     "text": [
      "renommage\n",
      "conversion de type\n",
      "Schema({'vendor_name': String, 'tpep_pickup_datetime': Datetime(time_unit='us', time_zone=None), 'tpep_dropoff_datetime': Datetime(time_unit='us', time_zone=None), 'passenger_count': Int64, 'trip_distance': Float64, 'Start_Lon': Float64, 'Start_Lat': Float64, 'RatecodeID': Int64, 'store_and_fwd_flag': Float64, 'End_Lon': Float64, 'End_Lat': Float64, 'payment_type': String, 'fare_amount': Float64, 'extra': Float64, 'mta_tax': Float64, 'tip_amount': Float64, 'tolls_amount': Float64, 'total_amount': Float64})\n"
     ]
    }
   ],
   "source": [
    "print(type_convert_basic(col_rename(data_2009)).collect_schema())"
   ]
  },
  {
   "cell_type": "code",
   "execution_count": 20,
   "id": "0880e576-537a-47a4-80c3-4d976cb42274",
   "metadata": {},
   "outputs": [],
   "source": [
    "def type_convert(lazy_df: pl.LazyFrame) -> pl.LazyFrame:\n",
    "    \"\"\"Vérifie le type de chaque colonne et ne convertit que si nécessaire.\"\"\"\n",
    "    print(\"debut de conversion\")\n",
    "    \n",
    "    schema = lazy_df.collect_schema()\n",
    "    expressions_de_conversion = []\n",
    "\n",
    "    # Vérification pour la date de début\n",
    "    if schema.get(\"tpep_pickup_datetime\") == pl.String:\n",
    "        print(\"  - Conversion de 'tpep_pickup_datetime'...\")\n",
    "        expressions_de_conversion.append(pl.col(\"tpep_pickup_datetime\").str.to_datetime())\n",
    "\n",
    "    # Vérification pour la date de fin\n",
    "    if schema.get(\"tpep_dropoff_datetime\") == pl.String:\n",
    "        print(\"  - Conversion de 'tpep_dropoff_datetime'...\")\n",
    "        expressions_de_conversion.append(pl.col(\"tpep_dropoff_datetime\").str.to_datetime())\n",
    "\n",
    "    # Vérification pour le RatecodeID\n",
    "    if schema.get(\"RatecodeID\") != pl.Int64:\n",
    "        print(\"  - Conversion de 'RatecodeID'...\")\n",
    "        expressions_de_conversion.append(pl.col(\"RatecodeID\").cast(pl.Int64))\n",
    "\n",
    "    # Si on a trouvé des colonnes à convertir, on les applique toutes en une fois\n",
    "    if expressions_de_conversion:\n",
    "        return lazy_df.with_columns(expressions_de_conversion)\n",
    "    else:\n",
    "        print(\"  - Tous les types sont déjà corrects.\")\n",
    "        return lazy_df"
   ]
  },
  {
   "cell_type": "code",
   "execution_count": 21,
   "id": "a9730b60-08b3-4b3d-9e9f-8e530ccaf457",
   "metadata": {},
   "outputs": [
    {
     "name": "stdout",
     "output_type": "stream",
     "text": [
      "renommage\n",
      "debut de conversion\n",
      "  - Conversion de 'tpep_pickup_datetime'...\n",
      "  - Conversion de 'tpep_dropoff_datetime'...\n",
      "  - Conversion de 'RatecodeID'...\n",
      "Schema({'vendor_name': String, 'tpep_pickup_datetime': Datetime(time_unit='us', time_zone=None), 'tpep_dropoff_datetime': Datetime(time_unit='us', time_zone=None), 'passenger_count': Int64, 'trip_distance': Float64, 'Start_Lon': Float64, 'Start_Lat': Float64, 'RatecodeID': Int64, 'store_and_fwd_flag': Float64, 'End_Lon': Float64, 'End_Lat': Float64, 'payment_type': String, 'fare_amount': Float64, 'extra': Float64, 'mta_tax': Float64, 'tip_amount': Float64, 'tolls_amount': Float64, 'total_amount': Float64})\n"
     ]
    }
   ],
   "source": [
    "print(type_convert(col_rename(data_2009)).collect_schema())"
   ]
  },
  {
   "cell_type": "code",
   "execution_count": 46,
   "id": "34ed0bb1-ae6d-4787-b911-a0bfceec3452",
   "metadata": {},
   "outputs": [],
   "source": [
    "\n",
    "def enforce_schema_types(lazy_df: pl.LazyFrame, target_schema: dict) -> pl.LazyFrame:\n",
    "    \"\"\"\n",
    "    Dynamically converts column types in a LazyFrame to match a target schema.\n",
    "    \"\"\"\n",
    "    print(\"-> Dynamically checking and converting column types to match target schema...\")\n",
    "    \n",
    "    current_schema = lazy_df.collect_schema()\n",
    "    conversion_expressions = []\n",
    "\n",
    "    # Iterate over every column in the target schema\n",
    "    for col_name, target_type in target_schema.items():\n",
    "        # Check if the column exists in our current dataframe\n",
    "        if col_name in current_schema:\n",
    "            current_type = current_schema[col_name]\n",
    "\n",
    "            # If the types don't match, prepare a conversion\n",
    "            if current_type != target_type:\n",
    "                print(f\"  - Mismatch found for '{col_name}': Current is {current_type}, Target is {target_type}. Converting...\")\n",
    "                \n",
    "                # Special handling for String -> Datetime conversion\n",
    "                if current_type == pl.String and target_type == pl.Datetime:\n",
    "                    expression = pl.col(col_name).str.to_datetime()\n",
    "                # For all other conversions, a standard .cast() is sufficient\n",
    "                else:\n",
    "                    expression = pl.col(col_name).cast(target_type)\n",
    "                \n",
    "                conversion_expressions.append(expression)\n",
    "\n",
    "    if conversion_expressions:\n",
    "        return lazy_df.with_columns(conversion_expressions)\n",
    "    else:\n",
    "        print(\"  - All column types already match the target schema.\")\n",
    "        return lazy_df"
   ]
  },
  {
   "cell_type": "markdown",
   "id": "930c6649-3d4f-46e6-848e-f9d883106323",
   "metadata": {},
   "source": [
    "# mappage des données "
   ]
  },
  {
   "cell_type": "code",
   "execution_count": 22,
   "id": "43a1c44c-0cf3-4b42-8ed3-a9c7e98ec5c0",
   "metadata": {},
   "outputs": [
    {
     "name": "stdout",
     "output_type": "stream",
     "text": [
      "renommage\n"
     ]
    },
    {
     "data": {
      "text/html": [
       "<div><style>\n",
       ".dataframe > thead > tr,\n",
       ".dataframe > tbody > tr {\n",
       "  text-align: right;\n",
       "  white-space: pre-wrap;\n",
       "}\n",
       "</style>\n",
       "<small>shape: (200, 18)</small><table border=\"1\" class=\"dataframe\"><thead><tr><th>vendor_name</th><th>tpep_pickup_datetime</th><th>tpep_dropoff_datetime</th><th>passenger_count</th><th>trip_distance</th><th>Start_Lon</th><th>Start_Lat</th><th>RatecodeID</th><th>store_and_fwd_flag</th><th>End_Lon</th><th>End_Lat</th><th>payment_type</th><th>fare_amount</th><th>extra</th><th>mta_tax</th><th>tip_amount</th><th>tolls_amount</th><th>total_amount</th></tr><tr><td>str</td><td>str</td><td>str</td><td>i64</td><td>f64</td><td>f64</td><td>f64</td><td>f64</td><td>f64</td><td>f64</td><td>f64</td><td>str</td><td>f64</td><td>f64</td><td>f64</td><td>f64</td><td>f64</td><td>f64</td></tr></thead><tbody><tr><td>&quot;VTS&quot;</td><td>&quot;2009-01-04 02:52:00&quot;</td><td>&quot;2009-01-04 03:02:00&quot;</td><td>1</td><td>2.63</td><td>-73.991957</td><td>40.721567</td><td>null</td><td>null</td><td>-73.993803</td><td>40.695922</td><td>&quot;CASH&quot;</td><td>8.9</td><td>0.5</td><td>null</td><td>0.0</td><td>0.0</td><td>9.4</td></tr><tr><td>&quot;VTS&quot;</td><td>&quot;2009-01-04 03:31:00&quot;</td><td>&quot;2009-01-04 03:38:00&quot;</td><td>3</td><td>4.55</td><td>-73.982102</td><td>40.73629</td><td>null</td><td>null</td><td>-73.95585</td><td>40.76803</td><td>&quot;Credit&quot;</td><td>12.1</td><td>0.5</td><td>null</td><td>2.0</td><td>0.0</td><td>14.6</td></tr><tr><td>&quot;VTS&quot;</td><td>&quot;2009-01-03 15:43:00&quot;</td><td>&quot;2009-01-03 15:57:00&quot;</td><td>5</td><td>10.35</td><td>-74.002587</td><td>40.739748</td><td>null</td><td>null</td><td>-73.869983</td><td>40.770225</td><td>&quot;Credit&quot;</td><td>23.7</td><td>0.0</td><td>null</td><td>4.74</td><td>0.0</td><td>28.44</td></tr><tr><td>&quot;DDS&quot;</td><td>&quot;2009-01-01 20:52:58&quot;</td><td>&quot;2009-01-01 21:14:00&quot;</td><td>1</td><td>5.0</td><td>-73.974267</td><td>40.790955</td><td>null</td><td>null</td><td>-73.996558</td><td>40.731849</td><td>&quot;CREDIT&quot;</td><td>14.9</td><td>0.5</td><td>null</td><td>3.05</td><td>0.0</td><td>18.45</td></tr><tr><td>&quot;DDS&quot;</td><td>&quot;2009-01-24 16:18:23&quot;</td><td>&quot;2009-01-24 16:24:56&quot;</td><td>1</td><td>0.4</td><td>-74.00158</td><td>40.719382</td><td>null</td><td>null</td><td>-74.008378</td><td>40.72035</td><td>&quot;CASH&quot;</td><td>3.7</td><td>0.0</td><td>null</td><td>0.0</td><td>0.0</td><td>3.7</td></tr><tr><td>&hellip;</td><td>&hellip;</td><td>&hellip;</td><td>&hellip;</td><td>&hellip;</td><td>&hellip;</td><td>&hellip;</td><td>&hellip;</td><td>&hellip;</td><td>&hellip;</td><td>&hellip;</td><td>&hellip;</td><td>&hellip;</td><td>&hellip;</td><td>&hellip;</td><td>&hellip;</td><td>&hellip;</td><td>&hellip;</td></tr><tr><td>&quot;VTS&quot;</td><td>&quot;2009-01-25 02:36:00&quot;</td><td>&quot;2009-01-25 02:51:00&quot;</td><td>1</td><td>3.95</td><td>-74.002017</td><td>40.750527</td><td>null</td><td>null</td><td>-73.956948</td><td>40.776677</td><td>&quot;Credit&quot;</td><td>12.5</td><td>0.5</td><td>null</td><td>2.0</td><td>0.0</td><td>15.0</td></tr><tr><td>&quot;VTS&quot;</td><td>&quot;2009-01-25 10:21:00&quot;</td><td>&quot;2009-01-25 10:26:00&quot;</td><td>1</td><td>1.08</td><td>-73.967242</td><td>40.759787</td><td>null</td><td>null</td><td>-73.967242</td><td>40.759787</td><td>&quot;CASH&quot;</td><td>4.9</td><td>0.0</td><td>null</td><td>0.0</td><td>0.0</td><td>4.9</td></tr><tr><td>&quot;VTS&quot;</td><td>&quot;2009-01-25 09:09:00&quot;</td><td>&quot;2009-01-25 09:22:00&quot;</td><td>5</td><td>6.28</td><td>-74.015198</td><td>40.709815</td><td>null</td><td>null</td><td>-73.976947</td><td>40.752837</td><td>&quot;CASH&quot;</td><td>16.5</td><td>0.0</td><td>null</td><td>0.0</td><td>0.0</td><td>16.5</td></tr><tr><td>&quot;VTS&quot;</td><td>&quot;2009-01-25 15:03:00&quot;</td><td>&quot;2009-01-25 15:13:00&quot;</td><td>1</td><td>1.82</td><td>-73.987873</td><td>40.750483</td><td>null</td><td>null</td><td>-73.970837</td><td>40.764348</td><td>&quot;CASH&quot;</td><td>7.7</td><td>0.0</td><td>null</td><td>0.0</td><td>0.0</td><td>7.7</td></tr><tr><td>&quot;CMT&quot;</td><td>&quot;2009-01-25 18:09:54&quot;</td><td>&quot;2009-01-25 18:24:27&quot;</td><td>1</td><td>1.9</td><td>-73.982442</td><td>40.773285</td><td>null</td><td>null</td><td>-73.991777</td><td>40.749848</td><td>&quot;Cash&quot;</td><td>9.7</td><td>0.0</td><td>null</td><td>0.0</td><td>0.0</td><td>9.7</td></tr></tbody></table></div>"
      ],
      "text/plain": [
       "shape: (200, 18)\n",
       "┌─────────────┬──────────────────────┬───────────────────────┬─────────────────┬───┬─────────┬────────────┬──────────────┬──────────────┐\n",
       "│ vendor_name ┆ tpep_pickup_datetime ┆ tpep_dropoff_datetime ┆ passenger_count ┆ … ┆ mta_tax ┆ tip_amount ┆ tolls_amount ┆ total_amount │\n",
       "│ ---         ┆ ---                  ┆ ---                   ┆ ---             ┆   ┆ ---     ┆ ---        ┆ ---          ┆ ---          │\n",
       "│ str         ┆ str                  ┆ str                   ┆ i64             ┆   ┆ f64     ┆ f64        ┆ f64          ┆ f64          │\n",
       "╞═════════════╪══════════════════════╪═══════════════════════╪═════════════════╪═══╪═════════╪════════════╪══════════════╪══════════════╡\n",
       "│ VTS         ┆ 2009-01-04 02:52:00  ┆ 2009-01-04 03:02:00   ┆ 1               ┆ … ┆ null    ┆ 0.0        ┆ 0.0          ┆ 9.4          │\n",
       "│ VTS         ┆ 2009-01-04 03:31:00  ┆ 2009-01-04 03:38:00   ┆ 3               ┆ … ┆ null    ┆ 2.0        ┆ 0.0          ┆ 14.6         │\n",
       "│ VTS         ┆ 2009-01-03 15:43:00  ┆ 2009-01-03 15:57:00   ┆ 5               ┆ … ┆ null    ┆ 4.74       ┆ 0.0          ┆ 28.44        │\n",
       "│ DDS         ┆ 2009-01-01 20:52:58  ┆ 2009-01-01 21:14:00   ┆ 1               ┆ … ┆ null    ┆ 3.05       ┆ 0.0          ┆ 18.45        │\n",
       "│ DDS         ┆ 2009-01-24 16:18:23  ┆ 2009-01-24 16:24:56   ┆ 1               ┆ … ┆ null    ┆ 0.0        ┆ 0.0          ┆ 3.7          │\n",
       "│ …           ┆ …                    ┆ …                     ┆ …               ┆ … ┆ …       ┆ …          ┆ …            ┆ …            │\n",
       "│ VTS         ┆ 2009-01-25 02:36:00  ┆ 2009-01-25 02:51:00   ┆ 1               ┆ … ┆ null    ┆ 2.0        ┆ 0.0          ┆ 15.0         │\n",
       "│ VTS         ┆ 2009-01-25 10:21:00  ┆ 2009-01-25 10:26:00   ┆ 1               ┆ … ┆ null    ┆ 0.0        ┆ 0.0          ┆ 4.9          │\n",
       "│ VTS         ┆ 2009-01-25 09:09:00  ┆ 2009-01-25 09:22:00   ┆ 5               ┆ … ┆ null    ┆ 0.0        ┆ 0.0          ┆ 16.5         │\n",
       "│ VTS         ┆ 2009-01-25 15:03:00  ┆ 2009-01-25 15:13:00   ┆ 1               ┆ … ┆ null    ┆ 0.0        ┆ 0.0          ┆ 7.7          │\n",
       "│ CMT         ┆ 2009-01-25 18:09:54  ┆ 2009-01-25 18:24:27   ┆ 1               ┆ … ┆ null    ┆ 0.0        ┆ 0.0          ┆ 9.7          │\n",
       "└─────────────┴──────────────────────┴───────────────────────┴─────────────────┴───┴─────────┴────────────┴──────────────┴──────────────┘"
      ]
     },
     "execution_count": 22,
     "metadata": {},
     "output_type": "execute_result"
    }
   ],
   "source": [
    "col_rename(data_2009).collect().head(200)"
   ]
  },
  {
   "cell_type": "code",
   "execution_count": 23,
   "id": "90180214-6faa-474e-87c1-4300ce63be8e",
   "metadata": {},
   "outputs": [
    {
     "data": {
      "text/html": [
       "<div><style>\n",
       ".dataframe > thead > tr,\n",
       ".dataframe > tbody > tr {\n",
       "  text-align: right;\n",
       "  white-space: pre-wrap;\n",
       "}\n",
       "</style>\n",
       "<small>shape: (5, 19)</small><table border=\"1\" class=\"dataframe\"><thead><tr><th>VendorID</th><th>tpep_pickup_datetime</th><th>tpep_dropoff_datetime</th><th>passenger_count</th><th>trip_distance</th><th>RatecodeID</th><th>store_and_fwd_flag</th><th>PULocationID</th><th>DOLocationID</th><th>payment_type</th><th>fare_amount</th><th>extra</th><th>mta_tax</th><th>tip_amount</th><th>tolls_amount</th><th>improvement_surcharge</th><th>total_amount</th><th>congestion_surcharge</th><th>Airport_fee</th></tr><tr><td>i32</td><td>datetime[ns]</td><td>datetime[ns]</td><td>i64</td><td>f64</td><td>i64</td><td>str</td><td>i32</td><td>i32</td><td>i64</td><td>f64</td><td>f64</td><td>f64</td><td>f64</td><td>f64</td><td>f64</td><td>f64</td><td>f64</td><td>f64</td></tr></thead><tbody><tr><td>2</td><td>2024-01-01 00:57:55</td><td>2024-01-01 01:17:43</td><td>1</td><td>1.72</td><td>1</td><td>&quot;N&quot;</td><td>186</td><td>79</td><td>2</td><td>17.7</td><td>1.0</td><td>0.5</td><td>0.0</td><td>0.0</td><td>1.0</td><td>22.7</td><td>2.5</td><td>0.0</td></tr><tr><td>1</td><td>2024-01-01 00:03:00</td><td>2024-01-01 00:09:36</td><td>1</td><td>1.8</td><td>1</td><td>&quot;N&quot;</td><td>140</td><td>236</td><td>1</td><td>10.0</td><td>3.5</td><td>0.5</td><td>3.75</td><td>0.0</td><td>1.0</td><td>18.75</td><td>2.5</td><td>0.0</td></tr><tr><td>1</td><td>2024-01-01 00:17:06</td><td>2024-01-01 00:35:01</td><td>1</td><td>4.7</td><td>1</td><td>&quot;N&quot;</td><td>236</td><td>79</td><td>1</td><td>23.3</td><td>3.5</td><td>0.5</td><td>3.0</td><td>0.0</td><td>1.0</td><td>31.3</td><td>2.5</td><td>0.0</td></tr><tr><td>1</td><td>2024-01-01 00:36:38</td><td>2024-01-01 00:44:56</td><td>1</td><td>1.4</td><td>1</td><td>&quot;N&quot;</td><td>79</td><td>211</td><td>1</td><td>10.0</td><td>3.5</td><td>0.5</td><td>2.0</td><td>0.0</td><td>1.0</td><td>17.0</td><td>2.5</td><td>0.0</td></tr><tr><td>1</td><td>2024-01-01 00:46:51</td><td>2024-01-01 00:52:57</td><td>1</td><td>0.8</td><td>1</td><td>&quot;N&quot;</td><td>211</td><td>148</td><td>1</td><td>7.9</td><td>3.5</td><td>0.5</td><td>3.2</td><td>0.0</td><td>1.0</td><td>16.1</td><td>2.5</td><td>0.0</td></tr></tbody></table></div>"
      ],
      "text/plain": [
       "shape: (5, 19)\n",
       "┌──────────┬──────────────────────┬───────────────────────┬─────────────────┬───┬───────────────────────┬──────────────┬──────────────────────┬─────────────┐\n",
       "│ VendorID ┆ tpep_pickup_datetime ┆ tpep_dropoff_datetime ┆ passenger_count ┆ … ┆ improvement_surcharge ┆ total_amount ┆ congestion_surcharge ┆ Airport_fee │\n",
       "│ ---      ┆ ---                  ┆ ---                   ┆ ---             ┆   ┆ ---                   ┆ ---          ┆ ---                  ┆ ---         │\n",
       "│ i32      ┆ datetime[ns]         ┆ datetime[ns]          ┆ i64             ┆   ┆ f64                   ┆ f64          ┆ f64                  ┆ f64         │\n",
       "╞══════════╪══════════════════════╪═══════════════════════╪═════════════════╪═══╪═══════════════════════╪══════════════╪══════════════════════╪═════════════╡\n",
       "│ 2        ┆ 2024-01-01 00:57:55  ┆ 2024-01-01 01:17:43   ┆ 1               ┆ … ┆ 1.0                   ┆ 22.7         ┆ 2.5                  ┆ 0.0         │\n",
       "│ 1        ┆ 2024-01-01 00:03:00  ┆ 2024-01-01 00:09:36   ┆ 1               ┆ … ┆ 1.0                   ┆ 18.75        ┆ 2.5                  ┆ 0.0         │\n",
       "│ 1        ┆ 2024-01-01 00:17:06  ┆ 2024-01-01 00:35:01   ┆ 1               ┆ … ┆ 1.0                   ┆ 31.3         ┆ 2.5                  ┆ 0.0         │\n",
       "│ 1        ┆ 2024-01-01 00:36:38  ┆ 2024-01-01 00:44:56   ┆ 1               ┆ … ┆ 1.0                   ┆ 17.0         ┆ 2.5                  ┆ 0.0         │\n",
       "│ 1        ┆ 2024-01-01 00:46:51  ┆ 2024-01-01 00:52:57   ┆ 1               ┆ … ┆ 1.0                   ┆ 16.1         ┆ 2.5                  ┆ 0.0         │\n",
       "└──────────┴──────────────────────┴───────────────────────┴─────────────────┴───┴───────────────────────┴──────────────┴──────────────────────┴─────────────┘"
      ]
     },
     "execution_count": 23,
     "metadata": {},
     "output_type": "execute_result"
    }
   ],
   "source": [
    "data_2024.collect().head()"
   ]
  },
  {
   "cell_type": "code",
   "execution_count": 24,
   "id": "847e91ab-5b03-48da-82d4-e8894a9cf312",
   "metadata": {},
   "outputs": [],
   "source": [
    "def values_map(lazy_df: pl.LazyFrame) -> pl.LazyFrame:\n",
    "    \"\"\"Traduit les anciennes valeurs codées (texte) en nouvelles valeurs (numérique). de store_andfwd_flag et payment_type\"\"\"\n",
    "    print(\"Mapping started\")\n",
    "    \n",
    "    return lazy_df.with_columns(\n",
    "        # Mappage pour store_and_fwd_flag\n",
    "        pl.when(pl.col(\"store_and_fwd_flag\") == 1.0)\n",
    "          .then(pl.lit(\"Y\"))\n",
    "          .otherwise(pl.lit(\"N\"))\n",
    "          .alias(\"store_and_fwd_flag\"),\n",
    "        # Mappage pour payment_type avec la logique when/then\n",
    "        pl.when(pl.col(\"payment_type\").str.to_uppercase().str.contains(\"CRE\"))\n",
    "          .then(pl.lit(1)) # 1 = Credit card\n",
    "          .when(pl.col(\"payment_type\").str.to_uppercase().str.contains(\"FLE\"))\n",
    "          .then(pl.lit(0)) # 0 = FLEX FARE TIP\n",
    "          .when(pl.col(\"payment_type\").str.to_uppercase().str.contains(\"CAS\"))\n",
    "          .then(pl.lit(2)) # 2 = Cash\n",
    "          .when(pl.col(\"payment_type\").str.to_uppercase().str.contains(\"NO\"))\n",
    "          .then(pl.lit(3)) # 3 = No charge\n",
    "          .when(pl.col(\"payment_type\").str.to_uppercase().str.contains(\"DIS\"))\n",
    "          .then(pl.lit(4)) # 4 = Dispute\n",
    "          .otherwise(pl.lit(5)) # 5 = Unknown\n",
    "          .cast(pl.Int64)\n",
    "          .alias(\"payment_type\")\n",
    "    )"
   ]
  },
  {
   "cell_type": "code",
   "execution_count": 25,
   "id": "4fa5cbba-615a-4189-8c6e-655b222dc3f6",
   "metadata": {},
   "outputs": [
    {
     "name": "stdout",
     "output_type": "stream",
     "text": [
      "renommage\n",
      "debut de conversion\n",
      "  - Conversion de 'tpep_pickup_datetime'...\n",
      "  - Conversion de 'tpep_dropoff_datetime'...\n",
      "  - Conversion de 'RatecodeID'...\n",
      "Mapping started\n"
     ]
    },
    {
     "data": {
      "text/html": [
       "<div><style>\n",
       ".dataframe > thead > tr,\n",
       ".dataframe > tbody > tr {\n",
       "  text-align: right;\n",
       "  white-space: pre-wrap;\n",
       "}\n",
       "</style>\n",
       "<small>shape: (14_092_413, 18)</small><table border=\"1\" class=\"dataframe\"><thead><tr><th>vendor_name</th><th>tpep_pickup_datetime</th><th>tpep_dropoff_datetime</th><th>passenger_count</th><th>trip_distance</th><th>Start_Lon</th><th>Start_Lat</th><th>RatecodeID</th><th>store_and_fwd_flag</th><th>End_Lon</th><th>End_Lat</th><th>payment_type</th><th>fare_amount</th><th>extra</th><th>mta_tax</th><th>tip_amount</th><th>tolls_amount</th><th>total_amount</th></tr><tr><td>str</td><td>datetime[μs]</td><td>datetime[μs]</td><td>i64</td><td>f64</td><td>f64</td><td>f64</td><td>i64</td><td>str</td><td>f64</td><td>f64</td><td>i64</td><td>f64</td><td>f64</td><td>f64</td><td>f64</td><td>f64</td><td>f64</td></tr></thead><tbody><tr><td>&quot;VTS&quot;</td><td>2009-01-04 02:52:00</td><td>2009-01-04 03:02:00</td><td>1</td><td>2.63</td><td>-73.991957</td><td>40.721567</td><td>null</td><td>&quot;N&quot;</td><td>-73.993803</td><td>40.695922</td><td>2</td><td>8.9</td><td>0.5</td><td>null</td><td>0.0</td><td>0.0</td><td>9.4</td></tr><tr><td>&quot;VTS&quot;</td><td>2009-01-04 03:31:00</td><td>2009-01-04 03:38:00</td><td>3</td><td>4.55</td><td>-73.982102</td><td>40.73629</td><td>null</td><td>&quot;N&quot;</td><td>-73.95585</td><td>40.76803</td><td>1</td><td>12.1</td><td>0.5</td><td>null</td><td>2.0</td><td>0.0</td><td>14.6</td></tr><tr><td>&quot;VTS&quot;</td><td>2009-01-03 15:43:00</td><td>2009-01-03 15:57:00</td><td>5</td><td>10.35</td><td>-74.002587</td><td>40.739748</td><td>null</td><td>&quot;N&quot;</td><td>-73.869983</td><td>40.770225</td><td>1</td><td>23.7</td><td>0.0</td><td>null</td><td>4.74</td><td>0.0</td><td>28.44</td></tr><tr><td>&quot;DDS&quot;</td><td>2009-01-01 20:52:58</td><td>2009-01-01 21:14:00</td><td>1</td><td>5.0</td><td>-73.974267</td><td>40.790955</td><td>null</td><td>&quot;N&quot;</td><td>-73.996558</td><td>40.731849</td><td>1</td><td>14.9</td><td>0.5</td><td>null</td><td>3.05</td><td>0.0</td><td>18.45</td></tr><tr><td>&quot;DDS&quot;</td><td>2009-01-24 16:18:23</td><td>2009-01-24 16:24:56</td><td>1</td><td>0.4</td><td>-74.00158</td><td>40.719382</td><td>null</td><td>&quot;N&quot;</td><td>-74.008378</td><td>40.72035</td><td>2</td><td>3.7</td><td>0.0</td><td>null</td><td>0.0</td><td>0.0</td><td>3.7</td></tr><tr><td>&hellip;</td><td>&hellip;</td><td>&hellip;</td><td>&hellip;</td><td>&hellip;</td><td>&hellip;</td><td>&hellip;</td><td>&hellip;</td><td>&hellip;</td><td>&hellip;</td><td>&hellip;</td><td>&hellip;</td><td>&hellip;</td><td>&hellip;</td><td>&hellip;</td><td>&hellip;</td><td>&hellip;</td><td>&hellip;</td></tr><tr><td>&quot;VTS&quot;</td><td>2009-01-27 14:36:00</td><td>2009-01-27 14:46:00</td><td>5</td><td>0.89</td><td>-73.982013</td><td>40.74333</td><td>null</td><td>&quot;N&quot;</td><td>-73.994328</td><td>40.75013</td><td>2</td><td>6.5</td><td>0.0</td><td>null</td><td>0.0</td><td>0.0</td><td>6.5</td></tr><tr><td>&quot;VTS&quot;</td><td>2009-01-27 13:56:00</td><td>2009-01-27 14:02:00</td><td>1</td><td>1.94</td><td>-73.972788</td><td>40.761988</td><td>null</td><td>&quot;N&quot;</td><td>-73.951477</td><td>40.778217</td><td>1</td><td>8.1</td><td>0.0</td><td>null</td><td>1.9</td><td>0.0</td><td>10.0</td></tr><tr><td>&quot;CMT&quot;</td><td>2009-01-23 08:39:44</td><td>2009-01-23 09:02:15</td><td>1</td><td>3.8</td><td>-73.977467</td><td>40.751861</td><td>null</td><td>&quot;N&quot;</td><td>-74.009913</td><td>40.71347</td><td>2</td><td>14.5</td><td>0.0</td><td>null</td><td>0.0</td><td>0.0</td><td>14.5</td></tr><tr><td>&quot;VTS&quot;</td><td>2009-01-24 23:05:00</td><td>2009-01-24 23:15:00</td><td>3</td><td>3.85</td><td>-73.981295</td><td>40.753</td><td>null</td><td>&quot;N&quot;</td><td>-73.949453</td><td>40.77952</td><td>2</td><td>10.9</td><td>0.5</td><td>null</td><td>0.0</td><td>0.0</td><td>11.4</td></tr><tr><td>&quot;CMT&quot;</td><td>2009-01-23 14:39:02</td><td>2009-01-23 15:35:15</td><td>1</td><td>17.3</td><td>0.0</td><td>0.0</td><td>null</td><td>&quot;N&quot;</td><td>0.0</td><td>0.0</td><td>1</td><td>45.0</td><td>0.0</td><td>null</td><td>5.0</td><td>0.0</td><td>50.0</td></tr></tbody></table></div>"
      ],
      "text/plain": [
       "shape: (14_092_413, 18)\n",
       "┌─────────────┬──────────────────────┬───────────────────────┬─────────────────┬───┬─────────┬────────────┬──────────────┬──────────────┐\n",
       "│ vendor_name ┆ tpep_pickup_datetime ┆ tpep_dropoff_datetime ┆ passenger_count ┆ … ┆ mta_tax ┆ tip_amount ┆ tolls_amount ┆ total_amount │\n",
       "│ ---         ┆ ---                  ┆ ---                   ┆ ---             ┆   ┆ ---     ┆ ---        ┆ ---          ┆ ---          │\n",
       "│ str         ┆ datetime[μs]         ┆ datetime[μs]          ┆ i64             ┆   ┆ f64     ┆ f64        ┆ f64          ┆ f64          │\n",
       "╞═════════════╪══════════════════════╪═══════════════════════╪═════════════════╪═══╪═════════╪════════════╪══════════════╪══════════════╡\n",
       "│ VTS         ┆ 2009-01-04 02:52:00  ┆ 2009-01-04 03:02:00   ┆ 1               ┆ … ┆ null    ┆ 0.0        ┆ 0.0          ┆ 9.4          │\n",
       "│ VTS         ┆ 2009-01-04 03:31:00  ┆ 2009-01-04 03:38:00   ┆ 3               ┆ … ┆ null    ┆ 2.0        ┆ 0.0          ┆ 14.6         │\n",
       "│ VTS         ┆ 2009-01-03 15:43:00  ┆ 2009-01-03 15:57:00   ┆ 5               ┆ … ┆ null    ┆ 4.74       ┆ 0.0          ┆ 28.44        │\n",
       "│ DDS         ┆ 2009-01-01 20:52:58  ┆ 2009-01-01 21:14:00   ┆ 1               ┆ … ┆ null    ┆ 3.05       ┆ 0.0          ┆ 18.45        │\n",
       "│ DDS         ┆ 2009-01-24 16:18:23  ┆ 2009-01-24 16:24:56   ┆ 1               ┆ … ┆ null    ┆ 0.0        ┆ 0.0          ┆ 3.7          │\n",
       "│ …           ┆ …                    ┆ …                     ┆ …               ┆ … ┆ …       ┆ …          ┆ …            ┆ …            │\n",
       "│ VTS         ┆ 2009-01-27 14:36:00  ┆ 2009-01-27 14:46:00   ┆ 5               ┆ … ┆ null    ┆ 0.0        ┆ 0.0          ┆ 6.5          │\n",
       "│ VTS         ┆ 2009-01-27 13:56:00  ┆ 2009-01-27 14:02:00   ┆ 1               ┆ … ┆ null    ┆ 1.9        ┆ 0.0          ┆ 10.0         │\n",
       "│ CMT         ┆ 2009-01-23 08:39:44  ┆ 2009-01-23 09:02:15   ┆ 1               ┆ … ┆ null    ┆ 0.0        ┆ 0.0          ┆ 14.5         │\n",
       "│ VTS         ┆ 2009-01-24 23:05:00  ┆ 2009-01-24 23:15:00   ┆ 3               ┆ … ┆ null    ┆ 0.0        ┆ 0.0          ┆ 11.4         │\n",
       "│ CMT         ┆ 2009-01-23 14:39:02  ┆ 2009-01-23 15:35:15   ┆ 1               ┆ … ┆ null    ┆ 5.0        ┆ 0.0          ┆ 50.0         │\n",
       "└─────────────┴──────────────────────┴───────────────────────┴─────────────────┴───┴─────────┴────────────┴──────────────┴──────────────┘"
      ]
     },
     "execution_count": 25,
     "metadata": {},
     "output_type": "execute_result"
    }
   ],
   "source": [
    "values_map(type_convert(col_rename(data_2009))).collect()"
   ]
  },
  {
   "cell_type": "markdown",
   "id": "85d8d4c6-3c57-4f01-8785-6e1221853f40",
   "metadata": {},
   "source": [
    "# fonction qui montre si schema identique ou pas entre deux lazy frames\n"
   ]
  },
  {
   "cell_type": "code",
   "execution_count": 26,
   "id": "8246fc97-79d5-4c72-a719-3c8246872e4e",
   "metadata": {},
   "outputs": [],
   "source": [
    "\n",
    "def matching_schemas(\n",
    "    lazy_df1: pl.LazyFrame, \n",
    "    lazy_df2: pl.LazyFrame, \n",
    "    afficher_differences: bool = False\n",
    ") -> bool:\n",
    "    \"\"\"\n",
    "    Vérifie si les schémas de deux LazyFrames sont identiques.\n",
    "\n",
    "    Args:\n",
    "        lazy_df1: Le premier LazyFrame à comparer.\n",
    "        lazy_df2: Le deuxième LazyFrame à comparer.\n",
    "        afficher_differences: Si True, affiche les différences détaillées\n",
    "                              en cas de non-correspondance.\n",
    "\n",
    "    Returns:\n",
    "        True si les schémas sont identiques (noms, types et ordre des colonnes),\n",
    "        False sinon.\n",
    "    \"\"\"\n",
    "\n",
    "    # On utilise .collect_schema() qui est la méthode optimisée pour les LazyFrames\n",
    "    schema1 = lazy_df1.collect_schema()\n",
    "    schema2 = lazy_df2.collect_schema()\n",
    "\n",
    "    # Comparaison directe des deux schémas\n",
    "    sont_identiques = (schema1 == schema2)\n",
    "\n",
    "    if sont_identiques:\n",
    "        print(\" Les schémas sont identiques.\")\n",
    "        return True\n",
    "    \n",
    "    # Si les schémas ne sont pas identiques et que l'utilisateur veut des détails\n",
    "    if not sont_identiques and afficher_differences:\n",
    "        print(\"Les schémas ne sont PAS identiques. Voici le détail des différences :\")\n",
    "        \n",
    "        colonnes1 = list(schema1.keys())\n",
    "        colonnes2 = list(schema2.keys())\n",
    "\n",
    "        # Vérification du nombre, des noms et de l'ordre des colonnes\n",
    "        if colonnes1 != colonnes2:\n",
    "            print(\"\\n1. Les noms ou l'ordre des colonnes diffèrent :\")\n",
    "            print(f\"   - Schéma 1 ({len(colonnes1)} cols): {colonnes1}\")\n",
    "            print(f\"   - Schéma 2 ({len(colonnes2)} cols): {colonnes2}\")\n",
    "            \n",
    "            diff_cols = set(colonnes1).symmetric_difference(set(colonnes2))\n",
    "            if diff_cols:\n",
    "                print(f\"   - Colonnes non partagées : {list(diff_cols)}\")\n",
    "\n",
    "        # Vérification des types pour les colonnes en commun\n",
    "        print(\"\\n2. Vérification des types de données pour les colonnes communes :\")\n",
    "        colonnes_communes = sorted(list(set(colonnes1).intersection(set(colonnes2))))\n",
    "        \n",
    "        aucune_diff_type = True\n",
    "        for col in colonnes_communes:\n",
    "            if schema1[col] != schema2[col]:\n",
    "                print(f\"   - Colonne '{col}':\")\n",
    "                print(f\"     -> Type Schéma 1 = {schema1[col]}\")\n",
    "                print(f\"     -> Type Schéma 2 = {schema2[col]}\")\n",
    "                aucune_diff_type = False\n",
    "        \n",
    "        if aucune_diff_type:\n",
    "            print(\"   - Aucun type de données ne diffère pour les colonnes communes.\")\n",
    "\n",
    "    elif not sont_identiques:\n",
    "        print(\" Les schémas ne sont pas identiques.\")\n",
    "        \n",
    "    return False"
   ]
  },
  {
   "cell_type": "code",
   "execution_count": 27,
   "id": "2a4c7a04-06bb-4e9b-a32d-c097157fcabd",
   "metadata": {},
   "outputs": [
    {
     "name": "stdout",
     "output_type": "stream",
     "text": [
      " Les schémas sont identiques.\n"
     ]
    },
    {
     "data": {
      "text/plain": [
       "True"
      ]
     },
     "execution_count": 27,
     "metadata": {},
     "output_type": "execute_result"
    }
   ],
   "source": [
    "matching_schemas(data_2009,data_2009,True)"
   ]
  },
  {
   "cell_type": "markdown",
   "id": "bb764f30-0648-46d9-b0c4-2ae8c38f9ade",
   "metadata": {},
   "source": [
    "# rajouter les colonne manquantes"
   ]
  },
  {
   "cell_type": "code",
   "execution_count": 28,
   "id": "215484ee-f8b4-4376-9dae-81d662a2218b",
   "metadata": {},
   "outputs": [],
   "source": [
    "from polars._typing import SchemaDict\n",
    "\n",
    "def add_missing_columns(\n",
    "    lazy_df: pl.LazyFrame,\n",
    "    target_schema: SchemaDict\n",
    ") -> pl.LazyFrame:\n",
    "    \"\"\"Compares the LazyFrame to a target schema and adds any missing columns.\"\"\"\n",
    "    \n",
    "\n",
    "    current_columns = set(lazy_df.columns)\n",
    "    target_columns = set(target_schema.keys())\n",
    "    \n",
    "    columns_to_add = target_columns - current_columns\n",
    "\n",
    "    if not columns_to_add:\n",
    "        print(\"  - No columns to add.\")\n",
    "        return lazy_df\n",
    "\n",
    "    print(f\"  - Missing columns detected and will be added: {sorted(list(columns_to_add))}\")\n",
    "\n",
    "    add_expressions = []\n",
    "    for column_name in sorted(list(columns_to_add)):\n",
    "        target_dtype = target_schema[column_name]\n",
    "        expression = pl.lit(None, dtype=target_dtype).alias(column_name)\n",
    "        add_expressions.append(expression)\n",
    "            \n",
    "    return lazy_df.with_columns(add_expressions)"
   ]
  },
  {
   "cell_type": "code",
   "execution_count": 29,
   "id": "605fffb2-98fa-4b34-98ee-2942aca4d32d",
   "metadata": {},
   "outputs": [],
   "source": [
    "target_schema_2024_dict = {\n",
    "    'VendorID': pl.Int32,\n",
    "    'tpep_pickup_datetime': pl.Datetime,\n",
    "    'tpep_dropoff_datetime': pl.Datetime,\n",
    "    'passenger_count': pl.Int64,\n",
    "    'trip_distance': pl.Float64,\n",
    "    'RatecodeID': pl.Int64,\n",
    "    'store_and_fwd_flag': pl.String,\n",
    "    'PULocationID': pl.Int32,\n",
    "    'DOLocationID': pl.Int32,\n",
    "    'payment_type': pl.Int64,\n",
    "    'fare_amount': pl.Float64,\n",
    "    'extra': pl.Float64,\n",
    "    'mta_tax': pl.Float64,\n",
    "    'tip_amount': pl.Float64,\n",
    "    'tolls_amount': pl.Float64,\n",
    "    'improvement_surcharge': pl.Float64,\n",
    "    'total_amount': pl.Float64,\n",
    "    'congestion_surcharge': pl.Float64,\n",
    "    'Airport_fee': pl.Float64\n",
    "}"
   ]
  },
  {
   "cell_type": "code",
   "execution_count": 30,
   "id": "358fbdda-ec94-40f0-b87a-964632d899e3",
   "metadata": {},
   "outputs": [
    {
     "name": "stdout",
     "output_type": "stream",
     "text": [
      "renommage\n",
      "debut de conversion\n",
      "  - Conversion de 'tpep_pickup_datetime'...\n",
      "  - Conversion de 'tpep_dropoff_datetime'...\n",
      "  - Conversion de 'RatecodeID'...\n",
      "Mapping started\n",
      "  - Missing columns detected and will be added: ['Airport_fee', 'DOLocationID', 'PULocationID', 'VendorID', 'congestion_surcharge', 'improvement_surcharge']\n"
     ]
    },
    {
     "name": "stderr",
     "output_type": "stream",
     "text": [
      "C:\\Users\\stgadmin\\AppData\\Local\\Temp\\ipykernel_21772\\1457595152.py:10: PerformanceWarning: Determining the column names of a LazyFrame requires resolving its schema, which is a potentially expensive operation. Use `LazyFrame.collect_schema().names()` to get the column names without this warning.\n",
      "  current_columns = set(lazy_df.columns)\n"
     ]
    },
    {
     "data": {
      "text/html": [
       "<div><style>\n",
       ".dataframe > thead > tr,\n",
       ".dataframe > tbody > tr {\n",
       "  text-align: right;\n",
       "  white-space: pre-wrap;\n",
       "}\n",
       "</style>\n",
       "<small>shape: (50, 24)</small><table border=\"1\" class=\"dataframe\"><thead><tr><th>vendor_name</th><th>tpep_pickup_datetime</th><th>tpep_dropoff_datetime</th><th>passenger_count</th><th>trip_distance</th><th>Start_Lon</th><th>Start_Lat</th><th>RatecodeID</th><th>store_and_fwd_flag</th><th>End_Lon</th><th>End_Lat</th><th>payment_type</th><th>fare_amount</th><th>extra</th><th>mta_tax</th><th>tip_amount</th><th>tolls_amount</th><th>total_amount</th><th>Airport_fee</th><th>DOLocationID</th><th>PULocationID</th><th>VendorID</th><th>congestion_surcharge</th><th>improvement_surcharge</th></tr><tr><td>str</td><td>datetime[μs]</td><td>datetime[μs]</td><td>i64</td><td>f64</td><td>f64</td><td>f64</td><td>i64</td><td>str</td><td>f64</td><td>f64</td><td>i64</td><td>f64</td><td>f64</td><td>f64</td><td>f64</td><td>f64</td><td>f64</td><td>f64</td><td>i32</td><td>i32</td><td>i32</td><td>f64</td><td>f64</td></tr></thead><tbody><tr><td>&quot;VTS&quot;</td><td>2009-01-04 02:52:00</td><td>2009-01-04 03:02:00</td><td>1</td><td>2.63</td><td>-73.991957</td><td>40.721567</td><td>null</td><td>&quot;N&quot;</td><td>-73.993803</td><td>40.695922</td><td>2</td><td>8.9</td><td>0.5</td><td>null</td><td>0.0</td><td>0.0</td><td>9.4</td><td>null</td><td>null</td><td>null</td><td>null</td><td>null</td><td>null</td></tr><tr><td>&quot;VTS&quot;</td><td>2009-01-04 03:31:00</td><td>2009-01-04 03:38:00</td><td>3</td><td>4.55</td><td>-73.982102</td><td>40.73629</td><td>null</td><td>&quot;N&quot;</td><td>-73.95585</td><td>40.76803</td><td>1</td><td>12.1</td><td>0.5</td><td>null</td><td>2.0</td><td>0.0</td><td>14.6</td><td>null</td><td>null</td><td>null</td><td>null</td><td>null</td><td>null</td></tr><tr><td>&quot;VTS&quot;</td><td>2009-01-03 15:43:00</td><td>2009-01-03 15:57:00</td><td>5</td><td>10.35</td><td>-74.002587</td><td>40.739748</td><td>null</td><td>&quot;N&quot;</td><td>-73.869983</td><td>40.770225</td><td>1</td><td>23.7</td><td>0.0</td><td>null</td><td>4.74</td><td>0.0</td><td>28.44</td><td>null</td><td>null</td><td>null</td><td>null</td><td>null</td><td>null</td></tr><tr><td>&quot;DDS&quot;</td><td>2009-01-01 20:52:58</td><td>2009-01-01 21:14:00</td><td>1</td><td>5.0</td><td>-73.974267</td><td>40.790955</td><td>null</td><td>&quot;N&quot;</td><td>-73.996558</td><td>40.731849</td><td>1</td><td>14.9</td><td>0.5</td><td>null</td><td>3.05</td><td>0.0</td><td>18.45</td><td>null</td><td>null</td><td>null</td><td>null</td><td>null</td><td>null</td></tr><tr><td>&quot;DDS&quot;</td><td>2009-01-24 16:18:23</td><td>2009-01-24 16:24:56</td><td>1</td><td>0.4</td><td>-74.00158</td><td>40.719382</td><td>null</td><td>&quot;N&quot;</td><td>-74.008378</td><td>40.72035</td><td>2</td><td>3.7</td><td>0.0</td><td>null</td><td>0.0</td><td>0.0</td><td>3.7</td><td>null</td><td>null</td><td>null</td><td>null</td><td>null</td><td>null</td></tr><tr><td>&hellip;</td><td>&hellip;</td><td>&hellip;</td><td>&hellip;</td><td>&hellip;</td><td>&hellip;</td><td>&hellip;</td><td>&hellip;</td><td>&hellip;</td><td>&hellip;</td><td>&hellip;</td><td>&hellip;</td><td>&hellip;</td><td>&hellip;</td><td>&hellip;</td><td>&hellip;</td><td>&hellip;</td><td>&hellip;</td><td>&hellip;</td><td>&hellip;</td><td>&hellip;</td><td>&hellip;</td><td>&hellip;</td><td>&hellip;</td></tr><tr><td>&quot;DDS&quot;</td><td>2009-01-20 14:28:55</td><td>2009-01-20 14:54:08</td><td>2</td><td>9.8</td><td>-74.001485</td><td>40.727884</td><td>null</td><td>&quot;N&quot;</td><td>-73.936199</td><td>40.843387</td><td>2</td><td>24.5</td><td>0.0</td><td>null</td><td>0.0</td><td>0.0</td><td>24.5</td><td>null</td><td>null</td><td>null</td><td>null</td><td>null</td><td>null</td></tr><tr><td>&quot;CMT&quot;</td><td>2009-01-05 22:11:53</td><td>2009-01-05 22:18:35</td><td>1</td><td>1.6</td><td>-73.983659</td><td>40.770337</td><td>null</td><td>&quot;N&quot;</td><td>-73.960214</td><td>40.770241</td><td>2</td><td>7.0</td><td>0.0</td><td>null</td><td>0.0</td><td>0.0</td><td>7.0</td><td>null</td><td>null</td><td>null</td><td>null</td><td>null</td><td>null</td></tr><tr><td>&quot;CMT&quot;</td><td>2009-01-06 06:07:41</td><td>2009-01-06 06:25:44</td><td>1</td><td>9.3</td><td>-73.954312</td><td>40.773098</td><td>null</td><td>&quot;N&quot;</td><td>-73.864738</td><td>40.770322</td><td>2</td><td>21.7</td><td>0.0</td><td>null</td><td>0.0</td><td>4.15</td><td>25.85</td><td>null</td><td>null</td><td>null</td><td>null</td><td>null</td><td>null</td></tr><tr><td>&quot;CMT&quot;</td><td>2009-01-06 13:05:14</td><td>2009-01-06 13:15:14</td><td>1</td><td>0.5</td><td>-73.965083</td><td>40.754974</td><td>null</td><td>&quot;N&quot;</td><td>-73.970289</td><td>40.759571</td><td>2</td><td>6.5</td><td>0.0</td><td>null</td><td>0.0</td><td>0.0</td><td>6.5</td><td>null</td><td>null</td><td>null</td><td>null</td><td>null</td><td>null</td></tr><tr><td>&quot;DDS&quot;</td><td>2009-01-18 07:49:21</td><td>2009-01-18 07:55:33</td><td>2</td><td>1.6</td><td>-74.004043</td><td>40.742055</td><td>null</td><td>&quot;N&quot;</td><td>-74.004754</td><td>40.752029</td><td>2</td><td>6.1</td><td>0.0</td><td>null</td><td>0.0</td><td>0.0</td><td>6.1</td><td>null</td><td>null</td><td>null</td><td>null</td><td>null</td><td>null</td></tr></tbody></table></div>"
      ],
      "text/plain": [
       "shape: (50, 24)\n",
       "┌─────────────┬──────────────────────┬───────────────────────┬─────────────────┬───┬──────────────┬──────────┬──────────────────────┬───────────────────────┐\n",
       "│ vendor_name ┆ tpep_pickup_datetime ┆ tpep_dropoff_datetime ┆ passenger_count ┆ … ┆ PULocationID ┆ VendorID ┆ congestion_surcharge ┆ improvement_surcharge │\n",
       "│ ---         ┆ ---                  ┆ ---                   ┆ ---             ┆   ┆ ---          ┆ ---      ┆ ---                  ┆ ---                   │\n",
       "│ str         ┆ datetime[μs]         ┆ datetime[μs]          ┆ i64             ┆   ┆ i32          ┆ i32      ┆ f64                  ┆ f64                   │\n",
       "╞═════════════╪══════════════════════╪═══════════════════════╪═════════════════╪═══╪══════════════╪══════════╪══════════════════════╪═══════════════════════╡\n",
       "│ VTS         ┆ 2009-01-04 02:52:00  ┆ 2009-01-04 03:02:00   ┆ 1               ┆ … ┆ null         ┆ null     ┆ null                 ┆ null                  │\n",
       "│ VTS         ┆ 2009-01-04 03:31:00  ┆ 2009-01-04 03:38:00   ┆ 3               ┆ … ┆ null         ┆ null     ┆ null                 ┆ null                  │\n",
       "│ VTS         ┆ 2009-01-03 15:43:00  ┆ 2009-01-03 15:57:00   ┆ 5               ┆ … ┆ null         ┆ null     ┆ null                 ┆ null                  │\n",
       "│ DDS         ┆ 2009-01-01 20:52:58  ┆ 2009-01-01 21:14:00   ┆ 1               ┆ … ┆ null         ┆ null     ┆ null                 ┆ null                  │\n",
       "│ DDS         ┆ 2009-01-24 16:18:23  ┆ 2009-01-24 16:24:56   ┆ 1               ┆ … ┆ null         ┆ null     ┆ null                 ┆ null                  │\n",
       "│ …           ┆ …                    ┆ …                     ┆ …               ┆ … ┆ …            ┆ …        ┆ …                    ┆ …                     │\n",
       "│ DDS         ┆ 2009-01-20 14:28:55  ┆ 2009-01-20 14:54:08   ┆ 2               ┆ … ┆ null         ┆ null     ┆ null                 ┆ null                  │\n",
       "│ CMT         ┆ 2009-01-05 22:11:53  ┆ 2009-01-05 22:18:35   ┆ 1               ┆ … ┆ null         ┆ null     ┆ null                 ┆ null                  │\n",
       "│ CMT         ┆ 2009-01-06 06:07:41  ┆ 2009-01-06 06:25:44   ┆ 1               ┆ … ┆ null         ┆ null     ┆ null                 ┆ null                  │\n",
       "│ CMT         ┆ 2009-01-06 13:05:14  ┆ 2009-01-06 13:15:14   ┆ 1               ┆ … ┆ null         ┆ null     ┆ null                 ┆ null                  │\n",
       "│ DDS         ┆ 2009-01-18 07:49:21  ┆ 2009-01-18 07:55:33   ┆ 2               ┆ … ┆ null         ┆ null     ┆ null                 ┆ null                  │\n",
       "└─────────────┴──────────────────────┴───────────────────────┴─────────────────┴───┴──────────────┴──────────┴──────────────────────┴───────────────────────┘"
      ]
     },
     "execution_count": 30,
     "metadata": {},
     "output_type": "execute_result"
    }
   ],
   "source": [
    "add_missing_columns(values_map(type_convert(col_rename(data_2009))).head(50),target_schema_2024_dict).collect()"
   ]
  },
  {
   "cell_type": "code",
   "execution_count": 31,
   "id": "a18a0a10-6b41-4485-9fb2-68e8b088b7ba",
   "metadata": {},
   "outputs": [
    {
     "name": "stdout",
     "output_type": "stream",
     "text": [
      "renommage\n",
      "debut de conversion\n",
      "  - Conversion de 'tpep_pickup_datetime'...\n",
      "  - Conversion de 'tpep_dropoff_datetime'...\n",
      "  - Conversion de 'RatecodeID'...\n",
      "Mapping started\n",
      "  - Missing columns detected and will be added: ['Airport_fee', 'DOLocationID', 'PULocationID', 'VendorID', 'congestion_surcharge', 'improvement_surcharge']\n",
      "Les schémas ne sont PAS identiques. Voici le détail des différences :\n",
      "\n",
      "1. Les noms ou l'ordre des colonnes diffèrent :\n",
      "   - Schéma 1 (24 cols): ['vendor_name', 'tpep_pickup_datetime', 'tpep_dropoff_datetime', 'passenger_count', 'trip_distance', 'Start_Lon', 'Start_Lat', 'RatecodeID', 'store_and_fwd_flag', 'End_Lon', 'End_Lat', 'payment_type', 'fare_amount', 'extra', 'mta_tax', 'tip_amount', 'tolls_amount', 'total_amount', 'Airport_fee', 'DOLocationID', 'PULocationID', 'VendorID', 'congestion_surcharge', 'improvement_surcharge']\n",
      "   - Schéma 2 (19 cols): ['VendorID', 'tpep_pickup_datetime', 'tpep_dropoff_datetime', 'passenger_count', 'trip_distance', 'RatecodeID', 'store_and_fwd_flag', 'PULocationID', 'DOLocationID', 'payment_type', 'fare_amount', 'extra', 'mta_tax', 'tip_amount', 'tolls_amount', 'improvement_surcharge', 'total_amount', 'congestion_surcharge', 'Airport_fee']\n",
      "   - Colonnes non partagées : ['End_Lat', 'Start_Lon', 'Start_Lat', 'End_Lon', 'vendor_name']\n",
      "\n",
      "2. Vérification des types de données pour les colonnes communes :\n",
      "   - Colonne 'tpep_dropoff_datetime':\n",
      "     -> Type Schéma 1 = Datetime(time_unit='us', time_zone=None)\n",
      "     -> Type Schéma 2 = Datetime(time_unit='ns', time_zone=None)\n",
      "   - Colonne 'tpep_pickup_datetime':\n",
      "     -> Type Schéma 1 = Datetime(time_unit='us', time_zone=None)\n",
      "     -> Type Schéma 2 = Datetime(time_unit='ns', time_zone=None)\n"
     ]
    },
    {
     "name": "stderr",
     "output_type": "stream",
     "text": [
      "C:\\Users\\stgadmin\\AppData\\Local\\Temp\\ipykernel_21772\\1457595152.py:10: PerformanceWarning: Determining the column names of a LazyFrame requires resolving its schema, which is a potentially expensive operation. Use `LazyFrame.collect_schema().names()` to get the column names without this warning.\n",
      "  current_columns = set(lazy_df.columns)\n"
     ]
    },
    {
     "data": {
      "text/plain": [
       "False"
      ]
     },
     "execution_count": 31,
     "metadata": {},
     "output_type": "execute_result"
    }
   ],
   "source": [
    "matching_schemas(add_missing_columns(values_map(type_convert(col_rename(data_2009))).head(50),target_schema_2024_dict),data_2024,True)"
   ]
  },
  {
   "cell_type": "code",
   "execution_count": 47,
   "id": "4139c8c5-86d3-4424-8689-7e399e11708d",
   "metadata": {},
   "outputs": [],
   "source": [
    "data_2009_clean = reconcile_vendor_column(data_2009.head())\n"
   ]
  },
  {
   "cell_type": "code",
   "execution_count": 48,
   "id": "79eaebfc-c246-43e1-afd7-6f12a48becf4",
   "metadata": {},
   "outputs": [],
   "source": [
    "data_2009_clean = add_location_ids(data_2009_clean,zones_lazy)"
   ]
  },
  {
   "cell_type": "code",
   "execution_count": 49,
   "id": "65a3ae35-1770-4d82-97c1-47dd67deb887",
   "metadata": {},
   "outputs": [
    {
     "name": "stdout",
     "output_type": "stream",
     "text": [
      "renommage\n"
     ]
    }
   ],
   "source": [
    "data_2009_clean = col_rename(data_2009_clean)"
   ]
  },
  {
   "cell_type": "code",
   "execution_count": 50,
   "id": "fae187be-b2ed-4066-8015-c7b20c2adae9",
   "metadata": {},
   "outputs": [
    {
     "name": "stdout",
     "output_type": "stream",
     "text": [
      "Mapping started\n"
     ]
    }
   ],
   "source": [
    "data_2009_clean = values_map(data_2009_clean)"
   ]
  },
  {
   "cell_type": "code",
   "execution_count": 51,
   "id": "cdf45f33-d098-4151-afd6-068b8a07565f",
   "metadata": {},
   "outputs": [
    {
     "name": "stdout",
     "output_type": "stream",
     "text": [
      "  - Missing columns detected and will be added: ['Airport_fee', 'congestion_surcharge', 'improvement_surcharge']\n"
     ]
    },
    {
     "name": "stderr",
     "output_type": "stream",
     "text": [
      "C:\\Users\\stgadmin\\AppData\\Local\\Temp\\ipykernel_21772\\1457595152.py:10: PerformanceWarning: Determining the column names of a LazyFrame requires resolving its schema, which is a potentially expensive operation. Use `LazyFrame.collect_schema().names()` to get the column names without this warning.\n",
      "  current_columns = set(lazy_df.columns)\n"
     ]
    }
   ],
   "source": [
    "data_2009_clean = add_missing_columns(data_2009_clean,target_schema_2024_dict)\n"
   ]
  },
  {
   "cell_type": "code",
   "execution_count": 52,
   "id": "0aa101fc-c371-492e-98f0-65f95fe878fb",
   "metadata": {},
   "outputs": [
    {
     "name": "stdout",
     "output_type": "stream",
     "text": [
      "-> Dynamically checking and converting column types to match target schema...\n",
      "  - Mismatch found for 'VendorID': Current is Int64, Target is Int32. Converting...\n",
      "  - Mismatch found for 'tpep_pickup_datetime': Current is String, Target is Datetime. Converting...\n",
      "  - Mismatch found for 'tpep_dropoff_datetime': Current is String, Target is Datetime. Converting...\n",
      "  - Mismatch found for 'RatecodeID': Current is Float64, Target is Int64. Converting...\n"
     ]
    }
   ],
   "source": [
    "data_2009_clean = enforce_schema_types(data_2009_clean,target_schema_2024_dict)"
   ]
  },
  {
   "cell_type": "code",
   "execution_count": 53,
   "id": "f0a9b1de-486c-4638-a07c-acf55476f38a",
   "metadata": {},
   "outputs": [
    {
     "data": {
      "text/html": [
       "<div><style>\n",
       ".dataframe > thead > tr,\n",
       ".dataframe > tbody > tr {\n",
       "  text-align: right;\n",
       "  white-space: pre-wrap;\n",
       "}\n",
       "</style>\n",
       "<small>shape: (5, 19)</small><table border=\"1\" class=\"dataframe\"><thead><tr><th>tpep_pickup_datetime</th><th>tpep_dropoff_datetime</th><th>passenger_count</th><th>trip_distance</th><th>RatecodeID</th><th>store_and_fwd_flag</th><th>payment_type</th><th>fare_amount</th><th>extra</th><th>mta_tax</th><th>tip_amount</th><th>tolls_amount</th><th>total_amount</th><th>VendorID</th><th>PULocationID</th><th>DOLocationID</th><th>Airport_fee</th><th>congestion_surcharge</th><th>improvement_surcharge</th></tr><tr><td>datetime[μs]</td><td>datetime[μs]</td><td>i64</td><td>f64</td><td>i64</td><td>str</td><td>i64</td><td>f64</td><td>f64</td><td>f64</td><td>f64</td><td>f64</td><td>f64</td><td>i32</td><td>i32</td><td>i32</td><td>f64</td><td>f64</td><td>f64</td></tr></thead><tbody><tr><td>2009-01-04 02:52:00</td><td>2009-01-04 03:02:00</td><td>1</td><td>2.63</td><td>null</td><td>&quot;N&quot;</td><td>2</td><td>8.9</td><td>0.5</td><td>null</td><td>0.0</td><td>0.0</td><td>9.4</td><td>2</td><td>148</td><td>33</td><td>null</td><td>null</td><td>null</td></tr><tr><td>2009-01-04 03:31:00</td><td>2009-01-04 03:38:00</td><td>3</td><td>4.55</td><td>null</td><td>&quot;N&quot;</td><td>1</td><td>12.1</td><td>0.5</td><td>null</td><td>2.0</td><td>0.0</td><td>14.6</td><td>2</td><td>107</td><td>141</td><td>null</td><td>null</td><td>null</td></tr><tr><td>2009-01-03 15:43:00</td><td>2009-01-03 15:57:00</td><td>5</td><td>10.35</td><td>null</td><td>&quot;N&quot;</td><td>1</td><td>23.7</td><td>0.0</td><td>null</td><td>4.74</td><td>0.0</td><td>28.44</td><td>2</td><td>249</td><td>70</td><td>null</td><td>null</td><td>null</td></tr><tr><td>2009-01-01 20:52:58</td><td>2009-01-01 21:14:00</td><td>1</td><td>5.0</td><td>null</td><td>&quot;N&quot;</td><td>1</td><td>14.9</td><td>0.5</td><td>null</td><td>3.05</td><td>0.0</td><td>18.45</td><td>3</td><td>238</td><td>113</td><td>null</td><td>null</td><td>null</td></tr><tr><td>2009-01-24 16:18:23</td><td>2009-01-24 16:24:56</td><td>1</td><td>0.4</td><td>null</td><td>&quot;N&quot;</td><td>2</td><td>3.7</td><td>0.0</td><td>null</td><td>0.0</td><td>0.0</td><td>3.7</td><td>3</td><td>144</td><td>231</td><td>null</td><td>null</td><td>null</td></tr></tbody></table></div>"
      ],
      "text/plain": [
       "shape: (5, 19)\n",
       "┌──────────────────────┬───────────────────────┬─────────────────┬───────────────┬───┬──────────────┬─────────────┬──────────────────────┬───────────────────────┐\n",
       "│ tpep_pickup_datetime ┆ tpep_dropoff_datetime ┆ passenger_count ┆ trip_distance ┆ … ┆ DOLocationID ┆ Airport_fee ┆ congestion_surcharge ┆ improvement_surcharge │\n",
       "│ ---                  ┆ ---                   ┆ ---             ┆ ---           ┆   ┆ ---          ┆ ---         ┆ ---                  ┆ ---                   │\n",
       "│ datetime[μs]         ┆ datetime[μs]          ┆ i64             ┆ f64           ┆   ┆ i32          ┆ f64         ┆ f64                  ┆ f64                   │\n",
       "╞══════════════════════╪═══════════════════════╪═════════════════╪═══════════════╪═══╪══════════════╪═════════════╪══════════════════════╪═══════════════════════╡\n",
       "│ 2009-01-04 02:52:00  ┆ 2009-01-04 03:02:00   ┆ 1               ┆ 2.63          ┆ … ┆ 33           ┆ null        ┆ null                 ┆ null                  │\n",
       "│ 2009-01-04 03:31:00  ┆ 2009-01-04 03:38:00   ┆ 3               ┆ 4.55          ┆ … ┆ 141          ┆ null        ┆ null                 ┆ null                  │\n",
       "│ 2009-01-03 15:43:00  ┆ 2009-01-03 15:57:00   ┆ 5               ┆ 10.35         ┆ … ┆ 70           ┆ null        ┆ null                 ┆ null                  │\n",
       "│ 2009-01-01 20:52:58  ┆ 2009-01-01 21:14:00   ┆ 1               ┆ 5.0           ┆ … ┆ 113          ┆ null        ┆ null                 ┆ null                  │\n",
       "│ 2009-01-24 16:18:23  ┆ 2009-01-24 16:24:56   ┆ 1               ┆ 0.4           ┆ … ┆ 231          ┆ null        ┆ null                 ┆ null                  │\n",
       "└──────────────────────┴───────────────────────┴─────────────────┴───────────────┴───┴──────────────┴─────────────┴──────────────────────┴───────────────────────┘"
      ]
     },
     "execution_count": 53,
     "metadata": {},
     "output_type": "execute_result"
    }
   ],
   "source": [
    "data_2009_clean.collect()"
   ]
  },
  {
   "cell_type": "code",
   "execution_count": 54,
   "id": "dca7be45-d44d-44f3-b8be-2cc12a7192b7",
   "metadata": {},
   "outputs": [
    {
     "name": "stdout",
     "output_type": "stream",
     "text": [
      "-> Step 5: Ordering columns to match the final schema...\n",
      "Les schémas ne sont PAS identiques. Voici le détail des différences :\n",
      "\n",
      "2. Vérification des types de données pour les colonnes communes :\n",
      "   - Colonne 'tpep_dropoff_datetime':\n",
      "     -> Type Schéma 1 = Datetime(time_unit='us', time_zone=None)\n",
      "     -> Type Schéma 2 = Datetime(time_unit='ns', time_zone=None)\n",
      "   - Colonne 'tpep_pickup_datetime':\n",
      "     -> Type Schéma 1 = Datetime(time_unit='us', time_zone=None)\n",
      "     -> Type Schéma 2 = Datetime(time_unit='ns', time_zone=None)\n"
     ]
    },
    {
     "data": {
      "text/plain": [
       "False"
      ]
     },
     "execution_count": 54,
     "metadata": {},
     "output_type": "execute_result"
    }
   ],
   "source": [
    "from transformation import order_columns_by_schema\n",
    "matching_schemas(order_columns_by_schema(data_2009_clean,target_schema_2024_dict ),data_2024,True)"
   ]
  },
  {
   "cell_type": "markdown",
   "id": "bc391fba-1dc1-4323-bc4b-f00e16159744",
   "metadata": {},
   "source": [
    "# tester toutes les fonctions : "
   ]
  },
  {
   "cell_type": "code",
   "execution_count": 59,
   "id": "857bf732-c09b-4248-b9a5-423a8ea84c76",
   "metadata": {},
   "outputs": [],
   "source": [
    "\n",
    "def run_transformation(\n",
    "    source_lazy_df: pl.LazyFrame,\n",
    "    zones_df: pl.DataFrame,\n",
    "    target_schema: SchemaDict\n",
    ") -> pl.LazyFrame:\n",
    "    \"\"\"\n",
    "        renvoie Un nouveau LazyFrame aligné sur le schéma cible.\n",
    "    \"\"\"\n",
    "    print(\"--- START ---\")\n",
    "\n",
    "   \n",
    "    df_step1 = add_location_ids(source_lazy_df, zones_df)\n",
    "\n",
    "    \n",
    "    df_step2 = col_rename(df_step1)\n",
    "\n",
    "    \n",
    "    df_step3 = values_map(df_step2)\n",
    "\n",
    "    \n",
    "    df_step4 = add_missing_columns(df_step3, target_schema)\n",
    "\n",
    "    \n",
    "    df_step5 = enforce_schema_types(df_step4, target_schema)\n",
    "    \n",
    "    \n",
    "    final_lazy_df = order_columns_by_schema(df_step5, target_schema)\n",
    "\n",
    "    print(\"--- END ---\")\n",
    "    \n",
    "    return final_lazy_df"
   ]
  },
  {
   "cell_type": "code",
   "execution_count": 68,
   "id": "aee1fb0e-0c41-4ff9-a22f-19ec4d1fc158",
   "metadata": {},
   "outputs": [
    {
     "name": "stdout",
     "output_type": "stream",
     "text": [
      "--- START ---\n",
      "renommage\n",
      "Mapping started\n",
      "  - Missing columns detected and will be added: ['Airport_fee', 'VendorID', 'cbd_congestion_fee', 'congestion_surcharge', 'improvement_surcharge']\n",
      "-> Dynamically checking and converting column types to match target schema...\n",
      "  - Mismatch found for 'tpep_pickup_datetime': Current is String, Target is Datetime(time_unit='us', time_zone=None). Converting...\n",
      "  - Mismatch found for 'tpep_dropoff_datetime': Current is String, Target is Datetime(time_unit='us', time_zone=None). Converting...\n",
      "  - Mismatch found for 'RatecodeID': Current is Float64, Target is Int64. Converting...\n",
      "-> Step 5: Ordering columns to match the final schema...\n",
      "--- END ---\n"
     ]
    },
    {
     "name": "stderr",
     "output_type": "stream",
     "text": [
      "C:\\Users\\stgadmin\\AppData\\Local\\Temp\\ipykernel_21772\\1457595152.py:10: PerformanceWarning: Determining the column names of a LazyFrame requires resolving its schema, which is a potentially expensive operation. Use `LazyFrame.collect_schema().names()` to get the column names without this warning.\n",
      "  current_columns = set(lazy_df.columns)\n"
     ]
    },
    {
     "data": {
      "text/html": [
       "<div><style>\n",
       ".dataframe > thead > tr,\n",
       ".dataframe > tbody > tr {\n",
       "  text-align: right;\n",
       "  white-space: pre-wrap;\n",
       "}\n",
       "</style>\n",
       "<small>shape: (14_092_413, 20)</small><table border=\"1\" class=\"dataframe\"><thead><tr><th>VendorID</th><th>tpep_pickup_datetime</th><th>tpep_dropoff_datetime</th><th>passenger_count</th><th>trip_distance</th><th>RatecodeID</th><th>store_and_fwd_flag</th><th>PULocationID</th><th>DOLocationID</th><th>payment_type</th><th>fare_amount</th><th>extra</th><th>mta_tax</th><th>tip_amount</th><th>tolls_amount</th><th>improvement_surcharge</th><th>total_amount</th><th>congestion_surcharge</th><th>Airport_fee</th><th>cbd_congestion_fee</th></tr><tr><td>i32</td><td>datetime[μs]</td><td>datetime[μs]</td><td>i64</td><td>f64</td><td>i64</td><td>str</td><td>i32</td><td>i32</td><td>i64</td><td>f64</td><td>f64</td><td>f64</td><td>f64</td><td>f64</td><td>f64</td><td>f64</td><td>f64</td><td>f64</td><td>f64</td></tr></thead><tbody><tr><td>null</td><td>2009-01-04 02:52:00</td><td>2009-01-04 03:02:00</td><td>1</td><td>2.63</td><td>null</td><td>&quot;N&quot;</td><td>148</td><td>33</td><td>2</td><td>8.9</td><td>0.5</td><td>null</td><td>0.0</td><td>0.0</td><td>null</td><td>9.4</td><td>null</td><td>null</td><td>null</td></tr><tr><td>null</td><td>2009-01-04 03:31:00</td><td>2009-01-04 03:38:00</td><td>3</td><td>4.55</td><td>null</td><td>&quot;N&quot;</td><td>107</td><td>141</td><td>1</td><td>12.1</td><td>0.5</td><td>null</td><td>2.0</td><td>0.0</td><td>null</td><td>14.6</td><td>null</td><td>null</td><td>null</td></tr><tr><td>null</td><td>2009-01-03 15:43:00</td><td>2009-01-03 15:57:00</td><td>5</td><td>10.35</td><td>null</td><td>&quot;N&quot;</td><td>249</td><td>70</td><td>1</td><td>23.7</td><td>0.0</td><td>null</td><td>4.74</td><td>0.0</td><td>null</td><td>28.44</td><td>null</td><td>null</td><td>null</td></tr><tr><td>null</td><td>2009-01-01 20:52:58</td><td>2009-01-01 21:14:00</td><td>1</td><td>5.0</td><td>null</td><td>&quot;N&quot;</td><td>238</td><td>113</td><td>1</td><td>14.9</td><td>0.5</td><td>null</td><td>3.05</td><td>0.0</td><td>null</td><td>18.45</td><td>null</td><td>null</td><td>null</td></tr><tr><td>null</td><td>2009-01-24 16:18:23</td><td>2009-01-24 16:24:56</td><td>1</td><td>0.4</td><td>null</td><td>&quot;N&quot;</td><td>144</td><td>231</td><td>2</td><td>3.7</td><td>0.0</td><td>null</td><td>0.0</td><td>0.0</td><td>null</td><td>3.7</td><td>null</td><td>null</td><td>null</td></tr><tr><td>&hellip;</td><td>&hellip;</td><td>&hellip;</td><td>&hellip;</td><td>&hellip;</td><td>&hellip;</td><td>&hellip;</td><td>&hellip;</td><td>&hellip;</td><td>&hellip;</td><td>&hellip;</td><td>&hellip;</td><td>&hellip;</td><td>&hellip;</td><td>&hellip;</td><td>&hellip;</td><td>&hellip;</td><td>&hellip;</td><td>&hellip;</td><td>&hellip;</td></tr><tr><td>null</td><td>2009-01-27 14:36:00</td><td>2009-01-27 14:46:00</td><td>5</td><td>0.89</td><td>null</td><td>&quot;N&quot;</td><td>170</td><td>186</td><td>2</td><td>6.5</td><td>0.0</td><td>null</td><td>0.0</td><td>0.0</td><td>null</td><td>6.5</td><td>null</td><td>null</td><td>null</td></tr><tr><td>null</td><td>2009-01-27 13:56:00</td><td>2009-01-27 14:02:00</td><td>1</td><td>1.94</td><td>null</td><td>&quot;N&quot;</td><td>163</td><td>263</td><td>1</td><td>8.1</td><td>0.0</td><td>null</td><td>1.9</td><td>0.0</td><td>null</td><td>10.0</td><td>null</td><td>null</td><td>null</td></tr><tr><td>null</td><td>2009-01-23 08:39:44</td><td>2009-01-23 09:02:15</td><td>1</td><td>3.8</td><td>null</td><td>&quot;N&quot;</td><td>170</td><td>231</td><td>2</td><td>14.5</td><td>0.0</td><td>null</td><td>0.0</td><td>0.0</td><td>null</td><td>14.5</td><td>null</td><td>null</td><td>null</td></tr><tr><td>null</td><td>2009-01-24 23:05:00</td><td>2009-01-24 23:15:00</td><td>3</td><td>3.85</td><td>null</td><td>&quot;N&quot;</td><td>164</td><td>263</td><td>2</td><td>10.9</td><td>0.5</td><td>null</td><td>0.0</td><td>0.0</td><td>null</td><td>11.4</td><td>null</td><td>null</td><td>null</td></tr><tr><td>null</td><td>2009-01-23 14:39:02</td><td>2009-01-23 15:35:15</td><td>1</td><td>17.3</td><td>null</td><td>&quot;N&quot;</td><td>null</td><td>null</td><td>1</td><td>45.0</td><td>0.0</td><td>null</td><td>5.0</td><td>0.0</td><td>null</td><td>50.0</td><td>null</td><td>null</td><td>null</td></tr></tbody></table></div>"
      ],
      "text/plain": [
       "shape: (14_092_413, 20)\n",
       "┌──────────┬──────────────────────┬───────────────────────┬─────────────────┬───┬──────────────┬──────────────────────┬─────────────┬────────────────────┐\n",
       "│ VendorID ┆ tpep_pickup_datetime ┆ tpep_dropoff_datetime ┆ passenger_count ┆ … ┆ total_amount ┆ congestion_surcharge ┆ Airport_fee ┆ cbd_congestion_fee │\n",
       "│ ---      ┆ ---                  ┆ ---                   ┆ ---             ┆   ┆ ---          ┆ ---                  ┆ ---         ┆ ---                │\n",
       "│ i32      ┆ datetime[μs]         ┆ datetime[μs]          ┆ i64             ┆   ┆ f64          ┆ f64                  ┆ f64         ┆ f64                │\n",
       "╞══════════╪══════════════════════╪═══════════════════════╪═════════════════╪═══╪══════════════╪══════════════════════╪═════════════╪════════════════════╡\n",
       "│ null     ┆ 2009-01-04 02:52:00  ┆ 2009-01-04 03:02:00   ┆ 1               ┆ … ┆ 9.4          ┆ null                 ┆ null        ┆ null               │\n",
       "│ null     ┆ 2009-01-04 03:31:00  ┆ 2009-01-04 03:38:00   ┆ 3               ┆ … ┆ 14.6         ┆ null                 ┆ null        ┆ null               │\n",
       "│ null     ┆ 2009-01-03 15:43:00  ┆ 2009-01-03 15:57:00   ┆ 5               ┆ … ┆ 28.44        ┆ null                 ┆ null        ┆ null               │\n",
       "│ null     ┆ 2009-01-01 20:52:58  ┆ 2009-01-01 21:14:00   ┆ 1               ┆ … ┆ 18.45        ┆ null                 ┆ null        ┆ null               │\n",
       "│ null     ┆ 2009-01-24 16:18:23  ┆ 2009-01-24 16:24:56   ┆ 1               ┆ … ┆ 3.7          ┆ null                 ┆ null        ┆ null               │\n",
       "│ …        ┆ …                    ┆ …                     ┆ …               ┆ … ┆ …            ┆ …                    ┆ …           ┆ …                  │\n",
       "│ null     ┆ 2009-01-27 14:36:00  ┆ 2009-01-27 14:46:00   ┆ 5               ┆ … ┆ 6.5          ┆ null                 ┆ null        ┆ null               │\n",
       "│ null     ┆ 2009-01-27 13:56:00  ┆ 2009-01-27 14:02:00   ┆ 1               ┆ … ┆ 10.0         ┆ null                 ┆ null        ┆ null               │\n",
       "│ null     ┆ 2009-01-23 08:39:44  ┆ 2009-01-23 09:02:15   ┆ 1               ┆ … ┆ 14.5         ┆ null                 ┆ null        ┆ null               │\n",
       "│ null     ┆ 2009-01-24 23:05:00  ┆ 2009-01-24 23:15:00   ┆ 3               ┆ … ┆ 11.4         ┆ null                 ┆ null        ┆ null               │\n",
       "│ null     ┆ 2009-01-23 14:39:02  ┆ 2009-01-23 15:35:15   ┆ 1               ┆ … ┆ 50.0         ┆ null                 ┆ null        ┆ null               │\n",
       "└──────────┴──────────────────────┴───────────────────────┴─────────────────┴───┴──────────────┴──────────────────────┴─────────────┴────────────────────┘"
      ]
     },
     "execution_count": 68,
     "metadata": {},
     "output_type": "execute_result"
    }
   ],
   "source": [
    "target_schema_2025_dict = data_2025.collect_schema()\n",
    "result = run_transformation(data_2009,zones_lazy,target_schema_2025_dict)\n",
    "result.collect()"
   ]
  },
  {
   "cell_type": "code",
   "execution_count": null,
   "id": "b34efc7c-a75b-47ee-a197-1a6305a1efcd",
   "metadata": {},
   "outputs": [
    {
     "name": "stdout",
     "output_type": "stream",
     "text": [
      "--- START ---\n",
      "renommage\n",
      "Mapping started\n",
      "  - Missing columns detected and will be added: ['Airport_fee', 'VendorID', 'cbd_congestion_fee', 'congestion_surcharge', 'improvement_surcharge']\n",
      "-> Dynamically checking and converting column types to match target schema...\n",
      "  - Mismatch found for 'tpep_pickup_datetime': Current is String, Target is Datetime(time_unit='us', time_zone=None). Converting...\n",
      "  - Mismatch found for 'tpep_dropoff_datetime': Current is String, Target is Datetime(time_unit='us', time_zone=None). Converting...\n",
      "  - Mismatch found for 'RatecodeID': Current is Float64, Target is Int64. Converting...\n",
      "-> Step 5: Ordering columns to match the final schema...\n",
      "--- END ---\n"
     ]
    },
    {
     "name": "stderr",
     "output_type": "stream",
     "text": [
      "C:\\Users\\stgadmin\\AppData\\Local\\Temp\\ipykernel_21772\\1457595152.py:10: PerformanceWarning: Determining the column names of a LazyFrame requires resolving its schema, which is a potentially expensive operation. Use `LazyFrame.collect_schema().names()` to get the column names without this warning.\n",
      "  current_columns = set(lazy_df.columns)\n"
     ]
    }
   ],
   "source": [
    "for file in files : \n",
    "    data = pl.scan_parquet(file)\n",
    "    file_name = file\n",
    "    file_again = file.split('\\\\')\n",
    "    file_again[6] = 'test'\n",
    "    file_name = ('\\\\').join(file_again)\n",
    "    result = run_transformation(data,zones_lazy,target_schema_2025_dict)\n",
    "    result.sink_parquet(file_name)  "
   ]
  },
  {
   "cell_type": "code",
   "execution_count": null,
   "id": "1e1a925b-8720-4215-b8ab-2e3e8d7311af",
   "metadata": {},
   "outputs": [],
   "source": []
  }
 ],
 "metadata": {
  "kernelspec": {
   "display_name": "Python 3 (ipykernel)",
   "language": "python",
   "name": "python3"
  },
  "language_info": {
   "codemirror_mode": {
    "name": "ipython",
    "version": 3
   },
   "file_extension": ".py",
   "mimetype": "text/x-python",
   "name": "python",
   "nbconvert_exporter": "python",
   "pygments_lexer": "ipython3",
   "version": "3.12.11"
  }
 },
 "nbformat": 4,
 "nbformat_minor": 5
}
