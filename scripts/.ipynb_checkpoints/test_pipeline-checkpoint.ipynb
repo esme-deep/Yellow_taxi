{
 "cells": [
  {
   "cell_type": "code",
   "execution_count": 1,
   "id": "c80058ff-073f-456f-88ea-bb992c669216",
   "metadata": {},
   "outputs": [],
   "source": [
    "import polars as pl\n",
    "import requests\n",
    "from pprint import pprint\n",
    "import glob\n",
    "import pandas as pd\n",
    "import geopandas as gpd\n",
    "from polars._typing import SchemaDict\n",
    "import polars_st as st\n",
    "import os"
   ]
  },
  {
   "cell_type": "code",
   "execution_count": 2,
   "id": "9a576a51-aead-4abe-8b4f-3efb5cdb51d9",
   "metadata": {},
   "outputs": [],
   "source": [
    "from transformation import order_columns_by_schema, add_location_ids, col_rename, values_map, add_missing_columns, enforce_schema_types"
   ]
  },
  {
   "cell_type": "code",
   "execution_count": 3,
   "id": "dcae89be-6f43-4560-a10d-72191b7882b5",
   "metadata": {},
   "outputs": [],
   "source": [
    "\n",
    "SHAPEFILE_PATH = r\"C:\\Users\\stgadmin\\Desktop\\Taxi_AirFlow\\data\\taxi_zones\\\\\"\n",
    "zones_gdf = gpd.read_file(SHAPEFILE_PATH)\n",
    "zones_df = st.from_geopandas(zones_gdf.to_crs(\"EPSG:4326\"))\n",
    "zones_lazy = zones_df.select(['geometry', 'LocationID']).lazy()"
   ]
  },
  {
   "cell_type": "code",
   "execution_count": 4,
   "id": "b4753251-8fa6-4119-bfe9-e4580605131b",
   "metadata": {},
   "outputs": [],
   "source": [
    "DIR = r\"C:\\Users\\stgadmin\\Desktop\\Taxi_AirFlow\\data\\test-in\\yellow\\2025\\*.parquet\"\n",
    "files = glob.glob(DIR)\n"
   ]
  },
  {
   "cell_type": "code",
   "execution_count": 5,
   "id": "8e8d1eb5-f7d0-4548-8804-508df9273783",
   "metadata": {},
   "outputs": [],
   "source": [
    "target_schema_2025_dict = pl.scan_parquet(files[0]).collect_schema()"
   ]
  },
  {
   "cell_type": "code",
   "execution_count": 6,
   "id": "e238841f-f7f5-4677-afab-d9599f180aa2",
   "metadata": {},
   "outputs": [],
   "source": [
    "def run_transformation(\n",
    "    source_lazy_df: pl.LazyFrame,\n",
    "    zones_df: pl.DataFrame,\n",
    "    target_schema: SchemaDict\n",
    ") -> pl.LazyFrame:\n",
    "    \"\"\"\n",
    "        renvoie Un nouveau LazyFrame aligné sur le schéma cible.\n",
    "    \"\"\"\n",
    "    print(\"--- START ---\")\n",
    "\n",
    "   \n",
    "    df_step1 = col_rename(source_lazy_df)\n",
    "\n",
    "    \n",
    "    df_step2 = add_location_ids(df_step1, zones_df)\n",
    "\n",
    "    \n",
    "    df_step3 = values_map(df_step2)\n",
    "\n",
    "    \n",
    "    df_step4 = add_missing_columns(df_step3, target_schema)\n",
    "\n",
    "    \n",
    "    df_step5 = enforce_schema_types(df_step4, target_schema)\n",
    "    \n",
    "    \n",
    "    final_lazy_df = order_columns_by_schema(df_step5, target_schema)\n",
    "\n",
    "    print(\"--- END ---\")\n",
    "    \n",
    "    return final_lazy_df"
   ]
  },
  {
   "cell_type": "markdown",
   "id": "3a491a80-94c9-425f-b6c5-3c0045f8e99a",
   "metadata": {},
   "source": [
    " ## TEST POUR 2009"
   ]
  },
  {
   "cell_type": "code",
   "execution_count": 21,
   "id": "e39a4b59-11dd-471c-ba2c-2496f9b9ed08",
   "metadata": {},
   "outputs": [],
   "source": [
    "DIR = r\"C:\\Users\\stgadmin\\Desktop\\Taxi_AirFlow\\data\\test-in\\yellow\\2009\\*.parquet\"\n",
    "files = glob.glob(DIR)\n"
   ]
  },
  {
   "cell_type": "code",
   "execution_count": 22,
   "id": "3879c76b-5f1c-4f58-9b4c-7f7804e09809",
   "metadata": {},
   "outputs": [
    {
     "name": "stdout",
     "output_type": "stream",
     "text": [
      "['C:\\\\Users\\\\stgadmin\\\\Desktop\\\\Taxi_AirFlow\\\\data\\\\test-in\\\\yellow\\\\2009\\\\yellow_tripdata_2009_all.parquet']\n"
     ]
    }
   ],
   "source": [
    "print(files)"
   ]
  },
  {
   "cell_type": "code",
   "execution_count": null,
   "id": "9839a0bc-2de0-45d3-b6dc-4c3ea591d02d",
   "metadata": {},
   "outputs": [
    {
     "name": "stdout",
     "output_type": "stream",
     "text": [
      "C:\\Users\\stgadmin\\Desktop\\Taxi_AirFlow\\data\\test_out\\yellow\\2009\\yellow_tripdata_2009_all.parquet\n",
      "--- START ---\n",
      "Mapping started (robust version)...\n",
      "  - Converting 'store_and_fwd_flag'...\n",
      "  - Converting 'payment_type'...\n",
      "  - Missing columns detected and will be added: ['Airport_fee', 'cbd_congestion_fee', 'congestion_surcharge', 'improvement_surcharge']\n",
      "-> Dynamically checking and converting column types to match target schema...\n",
      "  - Mismatch found for 'VendorID': Current is Int64, Target is Int32. Converting...\n",
      "  - Mismatch found for 'tpep_pickup_datetime': Current is String, Target is Datetime(time_unit='us', time_zone=None). Converting...\n",
      "  - Mismatch found for 'tpep_dropoff_datetime': Current is String, Target is Datetime(time_unit='us', time_zone=None). Converting...\n",
      "  - Mismatch found for 'RatecodeID': Current is Float64, Target is Int64. Converting...\n",
      "-> Step 5: Ordering columns to match the final schema...\n",
      "--- END ---\n"
     ]
    }
   ],
   "source": [
    "for file in files : \n",
    "    data = pl.scan_parquet(file)\n",
    "    file_name = file\n",
    "    file_again = file.split('\\\\')\n",
    "    file_again[6] = 'test_out'\n",
    "    file_name = ('\\\\').join(file_again)\n",
    "    print(file_name)\n",
    "    result = run_transformation(data,zones_lazy,target_schema_2025_dict)\n",
    "    result.sink_parquet(file_name) "
   ]
  },
  {
   "cell_type": "code",
   "execution_count": 13,
   "id": "554ed4a1-62cf-47bd-9b1b-007d9b29966c",
   "metadata": {},
   "outputs": [],
   "source": [
    "new_2009 = pl.scan_parquet(r\"C:\\Users\\stgadmin\\Desktop\\Taxi_AirFlow\\data\\test_out\\yellow\\2009\\yellow_tripdata_2009_all.parquet\").collect()"
   ]
  },
  {
   "cell_type": "code",
   "execution_count": 14,
   "id": "732dab07-4351-4f59-bc92-b7d6f5534da5",
   "metadata": {},
   "outputs": [
    {
     "name": "stdout",
     "output_type": "stream",
     "text": [
      "shape: (170_896_064, 20)\n",
      "┌──────────┬──────────────┬──────────────┬──────────────┬───┬──────────────┬──────────────┬─────────────┬──────────────┐\n",
      "│ VendorID ┆ tpep_pickup_ ┆ tpep_dropoff ┆ passenger_co ┆ … ┆ total_amount ┆ congestion_s ┆ Airport_fee ┆ cbd_congesti │\n",
      "│ ---      ┆ datetime     ┆ _datetime    ┆ unt          ┆   ┆ ---          ┆ urcharge     ┆ ---         ┆ on_fee       │\n",
      "│ i32      ┆ ---          ┆ ---          ┆ ---          ┆   ┆ f64          ┆ ---          ┆ f64         ┆ ---          │\n",
      "│          ┆ datetime[μs] ┆ datetime[μs] ┆ i64          ┆   ┆              ┆ f64          ┆             ┆ f64          │\n",
      "╞══════════╪══════════════╪══════════════╪══════════════╪═══╪══════════════╪══════════════╪═════════════╪══════════════╡\n",
      "│ 2        ┆ 2009-01-12   ┆ 2009-01-12   ┆ 1            ┆ … ┆ 10.1         ┆ null         ┆ null        ┆ null         │\n",
      "│          ┆ 19:54:00     ┆ 20:02:00     ┆              ┆   ┆              ┆              ┆             ┆              │\n",
      "│ 2        ┆ 2009-01-27   ┆ 2009-01-27   ┆ 5            ┆ … ┆ 13.5         ┆ null         ┆ null        ┆ null         │\n",
      "│          ┆ 17:34:00     ┆ 17:48:00     ┆              ┆   ┆              ┆              ┆             ┆              │\n",
      "│ 2        ┆ 2009-01-29   ┆ 2009-01-29   ┆ 2            ┆ … ┆ 30.1         ┆ null         ┆ null        ┆ null         │\n",
      "│          ┆ 19:56:00     ┆ 20:25:00     ┆              ┆   ┆              ┆              ┆             ┆              │\n",
      "│ 2        ┆ 2009-01-15   ┆ 2009-01-15   ┆ 1            ┆ … ┆ 10.5         ┆ null         ┆ null        ┆ null         │\n",
      "│          ┆ 07:57:00     ┆ 08:08:00     ┆              ┆   ┆              ┆              ┆             ┆              │\n",
      "│ 2        ┆ 2009-01-23   ┆ 2009-01-23   ┆ 1            ┆ … ┆ 4.5          ┆ null         ┆ null        ┆ null         │\n",
      "│          ┆ 09:39:00     ┆ 09:43:00     ┆              ┆   ┆              ┆              ┆             ┆              │\n",
      "│ …        ┆ …            ┆ …            ┆ …            ┆ … ┆ …            ┆ …            ┆ …           ┆ …            │\n",
      "│ 2        ┆ 2009-12-31   ┆ 2009-12-31   ┆ 5            ┆ … ┆ 6.2          ┆ null         ┆ null        ┆ null         │\n",
      "│          ┆ 12:19:00     ┆ 12:22:00     ┆              ┆   ┆              ┆              ┆             ┆              │\n",
      "│ 2        ┆ 2009-12-31   ┆ 2009-12-31   ┆ 1            ┆ … ┆ 4.3          ┆ null         ┆ null        ┆ null         │\n",
      "│          ┆ 00:27:00     ┆ 00:29:00     ┆              ┆   ┆              ┆              ┆             ┆              │\n",
      "│ 2        ┆ 2009-12-21   ┆ 2009-12-21   ┆ 2            ┆ … ┆ 12.2         ┆ null         ┆ null        ┆ null         │\n",
      "│          ┆ 14:31:00     ┆ 14:51:00     ┆              ┆   ┆              ┆              ┆             ┆              │\n",
      "│ 2        ┆ 2009-12-22   ┆ 2009-12-22   ┆ 3            ┆ … ┆ 7.8          ┆ null         ┆ null        ┆ null         │\n",
      "│          ┆ 09:29:00     ┆ 09:40:00     ┆              ┆   ┆              ┆              ┆             ┆              │\n",
      "│ 2        ┆ 2009-12-22   ┆ 2009-12-22   ┆ 5            ┆ … ┆ 14.6         ┆ null         ┆ null        ┆ null         │\n",
      "│          ┆ 09:18:00     ┆ 09:42:00     ┆              ┆   ┆              ┆              ┆             ┆              │\n",
      "└──────────┴──────────────┴──────────────┴──────────────┴───┴──────────────┴──────────────┴─────────────┴──────────────┘\n"
     ]
    }
   ],
   "source": [
    "print(new_2009)"
   ]
  },
  {
   "cell_type": "markdown",
   "id": "38e9f839-ddb3-479d-bf04-fd88098c79c2",
   "metadata": {},
   "source": [
    "# test pour 2010"
   ]
  },
  {
   "cell_type": "code",
   "execution_count": 7,
   "id": "22f5f75d-f1fc-4c79-8b4f-5ecdcecfc3ec",
   "metadata": {},
   "outputs": [
    {
     "name": "stdout",
     "output_type": "stream",
     "text": [
      "['C:\\\\Users\\\\stgadmin\\\\Desktop\\\\Taxi_AirFlow\\\\data\\\\test-in\\\\yellow\\\\2010\\\\yellow_tripdata_2010-01.parquet']\n"
     ]
    }
   ],
   "source": [
    "DIR = r\"C:\\Users\\stgadmin\\Desktop\\Taxi_AirFlow\\data\\test-in\\yellow\\2010\\*.parquet\"\n",
    "files = glob.glob(DIR)\n",
    "print(files)"
   ]
  },
  {
   "cell_type": "code",
   "execution_count": 8,
   "id": "a98e47af-3309-4522-8508-aabe48ba1b49",
   "metadata": {},
   "outputs": [
    {
     "name": "stdout",
     "output_type": "stream",
     "text": [
      "shape: (14_863_778, 18)\n",
      "┌───────────┬────────────────┬────────────────┬───────────────┬───┬─────────┬────────────┬──────────────┬──────────────┐\n",
      "│ vendor_id ┆ pickup_datetim ┆ dropoff_dateti ┆ passenger_cou ┆ … ┆ mta_tax ┆ tip_amount ┆ tolls_amount ┆ total_amount │\n",
      "│ ---       ┆ e              ┆ me             ┆ nt            ┆   ┆ ---     ┆ ---        ┆ ---          ┆ ---          │\n",
      "│ str       ┆ ---            ┆ ---            ┆ ---           ┆   ┆ f64     ┆ f64        ┆ f64          ┆ f64          │\n",
      "│           ┆ str            ┆ str            ┆ i64           ┆   ┆         ┆            ┆              ┆              │\n",
      "╞═══════════╪════════════════╪════════════════╪═══════════════╪═══╪═════════╪════════════╪══════════════╪══════════════╡\n",
      "│ VTS       ┆ 2010-01-26     ┆ 2010-01-26     ┆ 1             ┆ … ┆ 0.5     ┆ 0.0        ┆ 0.0          ┆ 5.0          │\n",
      "│           ┆ 07:41:00       ┆ 07:45:00       ┆               ┆   ┆         ┆            ┆              ┆              │\n",
      "│ DDS       ┆ 2010-01-30     ┆ 2010-01-30     ┆ 1             ┆ … ┆ 0.5     ┆ 0.0        ┆ 0.0          ┆ 16.3         │\n",
      "│           ┆ 23:31:00       ┆ 23:46:12       ┆               ┆   ┆         ┆            ┆              ┆              │\n",
      "│ DDS       ┆ 2010-01-18     ┆ 2010-01-18     ┆ 1             ┆ … ┆ 0.5     ┆ 0.0        ┆ 0.0          ┆ 12.7         │\n",
      "│           ┆ 20:22:20       ┆ 20:38:12       ┆               ┆   ┆         ┆            ┆              ┆              │\n",
      "│ VTS       ┆ 2010-01-09     ┆ 2010-01-09     ┆ 2             ┆ … ┆ 0.5     ┆ 0.0        ┆ 0.0          ┆ 14.3         │\n",
      "│           ┆ 01:18:00       ┆ 01:35:00       ┆               ┆   ┆         ┆            ┆              ┆              │\n",
      "│ CMT       ┆ 2010-01-18     ┆ 2010-01-18     ┆ 1             ┆ … ┆ 0.5     ┆ 0.87       ┆ 0.0          ┆ 6.67         │\n",
      "│           ┆ 19:10:14       ┆ 19:17:07       ┆               ┆   ┆         ┆            ┆              ┆              │\n",
      "│ …         ┆ …              ┆ …              ┆ …             ┆ … ┆ …       ┆ …          ┆ …            ┆ …            │\n",
      "│ CMT       ┆ 2010-01-06     ┆ 2010-01-06     ┆ 2             ┆ … ┆ 0.5     ┆ 0.0        ┆ 0.0          ┆ 8.2          │\n",
      "│           ┆ 14:51:19       ┆ 15:02:59       ┆               ┆   ┆         ┆            ┆              ┆              │\n",
      "│ VTS       ┆ 2010-01-09     ┆ 2010-01-09     ┆ 1             ┆ … ┆ 0.5     ┆ 0.0        ┆ 0.0          ┆ 45.5         │\n",
      "│           ┆ 12:52:00       ┆ 13:15:00       ┆               ┆   ┆         ┆            ┆              ┆              │\n",
      "│ CMT       ┆ 2010-01-09     ┆ 2010-01-09     ┆ 1             ┆ … ┆ 0.5     ┆ 0.0        ┆ 0.0          ┆ 8.6          │\n",
      "│           ┆ 14:00:44       ┆ 14:14:33       ┆               ┆   ┆         ┆            ┆              ┆              │\n",
      "│ CMT       ┆ 2010-01-09     ┆ 2010-01-09     ┆ 1             ┆ … ┆ 0.5     ┆ 0.0        ┆ 0.0          ┆ 7.8          │\n",
      "│           ┆ 09:52:23       ┆ 09:59:41       ┆               ┆   ┆         ┆            ┆              ┆              │\n",
      "│ CMT       ┆ 2010-01-05     ┆ 2010-01-05     ┆ 1             ┆ … ┆ 0.5     ┆ 0.0        ┆ 0.0          ┆ 6.6          │\n",
      "│           ┆ 15:25:59       ┆ 15:33:54       ┆               ┆   ┆         ┆            ┆              ┆              │\n",
      "└───────────┴────────────────┴────────────────┴───────────────┴───┴─────────┴────────────┴──────────────┴──────────────┘\n"
     ]
    }
   ],
   "source": [
    "print(pl.scan_parquet(files[0]).collect())"
   ]
  },
  {
   "cell_type": "code",
   "execution_count": 10,
   "id": "7c071de5-70fa-4129-b3ee-f790b04ef3f5",
   "metadata": {},
   "outputs": [
    {
     "name": "stdout",
     "output_type": "stream",
     "text": [
      "C:\\Users\\stgadmin\\Desktop\\Taxi_AirFlow\\data\\test_out\\yellow\\2010\\yellow_tripdata_2010-01.parquet\n",
      "--- START ---\n",
      "pickup_datetime tpep_pickup_datetime\n",
      "dropoff_datetime tpep_dropoff_datetime\n",
      "rate_code RatecodeID\n",
      "surcharge extra\n",
      "vendor_id VendorID\n",
      "pickup_longitude Start_Lon\n",
      "pickup_latitude Start_Lat\n",
      "dropoff_longitude End_Lon\n",
      "dropoff_latitude End_Lat\n",
      "Schema({'VendorID': String, 'tpep_pickup_datetime': String, 'tpep_dropoff_datetime': String, 'passenger_count': Int64, 'trip_distance': Float64, 'Start_Lon': Float64, 'Start_Lat': Float64, 'RatecodeID': String, 'store_and_fwd_flag': String, 'End_Lon': Float64, 'End_Lat': Float64, 'payment_type': String, 'fare_amount': Float64, 'extra': Float64, 'mta_tax': Float64, 'tip_amount': Float64, 'tolls_amount': Float64, 'total_amount': Float64})\n",
      "Mapping started (robust version)...\n",
      "  - Converting 'payment_type'...\n",
      "  - Missing columns detected and will be added: ['Airport_fee', 'cbd_congestion_fee', 'congestion_surcharge', 'improvement_surcharge']\n",
      "-> Dynamically checking and converting column types to match target schema...\n",
      "  - Mismatch found for 'VendorID': Current is Int64, Target is Int32. Converting...\n",
      "  - Mismatch found for 'tpep_pickup_datetime': Current is String, Target is Datetime(time_unit='us', time_zone=None). Converting...\n",
      "  - Mismatch found for 'tpep_dropoff_datetime': Current is String, Target is Datetime(time_unit='us', time_zone=None). Converting...\n",
      "  - Mismatch found for 'RatecodeID': Current is String, Target is Int64. Converting...\n",
      "-> Step 5: Ordering columns to match the final schema...\n",
      "--- END ---\n"
     ]
    },
    {
     "name": "stderr",
     "output_type": "stream",
     "text": [
      "C:\\Users\\stgadmin\\Desktop\\Taxi_AirFlow\\scripts\\transformation.py:12: PerformanceWarning: Determining the column names of a LazyFrame requires resolving its schema, which is a potentially expensive operation. Use `LazyFrame.collect_schema().names()` to get the column names without this warning.\n",
      "  if not required_cols.issubset(data_lazy.columns):\n",
      "C:\\Users\\stgadmin\\Desktop\\Taxi_AirFlow\\scripts\\transformation.py:379: PerformanceWarning: Determining the column names of a LazyFrame requires resolving its schema, which is a potentially expensive operation. Use `LazyFrame.collect_schema().names()` to get the column names without this warning.\n",
      "  current_columns = set(lazy_df.columns)\n"
     ]
    }
   ],
   "source": [
    "for file in files : \n",
    "    data = pl.scan_parquet(file)\n",
    "    file_name = file\n",
    "    file_again = file.split('\\\\')\n",
    "    file_again[6] = 'test_out'\n",
    "    file_name = ('\\\\').join(file_again)\n",
    "    print(file_name)\n",
    "    result = run_transformation(data,zones_lazy,target_schema_2025_dict)\n",
    "    result.sink_parquet(file_name) "
   ]
  },
  {
   "cell_type": "code",
   "execution_count": 12,
   "id": "66b15819-9c1d-4f89-94d7-479d1dcbdfc1",
   "metadata": {},
   "outputs": [],
   "source": [
    "new_2010 = pl.scan_parquet(r\"C:\\Users\\stgadmin\\Desktop\\Taxi_AirFlow\\data\\test_out\\yellow\\2010\\yellow_tripdata_2010-01.parquet\").collect()"
   ]
  },
  {
   "cell_type": "code",
   "execution_count": 13,
   "id": "881d0e30-afb2-4146-b53d-836afdbc9071",
   "metadata": {},
   "outputs": [
    {
     "name": "stdout",
     "output_type": "stream",
     "text": [
      "shape: (14_863_786, 20)\n",
      "┌──────────┬──────────────┬──────────────┬──────────────┬───┬──────────────┬──────────────┬─────────────┬──────────────┐\n",
      "│ VendorID ┆ tpep_pickup_ ┆ tpep_dropoff ┆ passenger_co ┆ … ┆ total_amount ┆ congestion_s ┆ Airport_fee ┆ cbd_congesti │\n",
      "│ ---      ┆ datetime     ┆ _datetime    ┆ unt          ┆   ┆ ---          ┆ urcharge     ┆ ---         ┆ on_fee       │\n",
      "│ i32      ┆ ---          ┆ ---          ┆ ---          ┆   ┆ f64          ┆ ---          ┆ f64         ┆ ---          │\n",
      "│          ┆ datetime[μs] ┆ datetime[μs] ┆ i64          ┆   ┆              ┆ f64          ┆             ┆ f64          │\n",
      "╞══════════╪══════════════╪══════════════╪══════════════╪═══╪══════════════╪══════════════╪═════════════╪══════════════╡\n",
      "│ 1        ┆ 2010-01-12   ┆ 2010-01-12   ┆ 1            ┆ … ┆ 8.4          ┆ null         ┆ null        ┆ null         │\n",
      "│          ┆ 12:16:34     ┆ 12:25:23     ┆              ┆   ┆              ┆              ┆             ┆              │\n",
      "│ 1        ┆ 2010-01-05   ┆ 2010-01-05   ┆ 1            ┆ … ┆ 5.8          ┆ null         ┆ null        ┆ null         │\n",
      "│          ┆ 15:06:22     ┆ 15:11:08     ┆              ┆   ┆              ┆              ┆             ┆              │\n",
      "│ 2        ┆ 2010-01-02   ┆ 2010-01-02   ┆ 1            ┆ … ┆ 10.2         ┆ null         ┆ null        ┆ null         │\n",
      "│          ┆ 14:35:00     ┆ 14:46:00     ┆              ┆   ┆              ┆              ┆             ┆              │\n",
      "│ 2        ┆ 2010-01-06   ┆ 2010-01-06   ┆ 5            ┆ … ┆ 11.8         ┆ null         ┆ null        ┆ null         │\n",
      "│          ┆ 14:43:00     ┆ 14:58:00     ┆              ┆   ┆              ┆              ┆             ┆              │\n",
      "│ 2        ┆ 2010-01-30   ┆ 2010-01-30   ┆ 5            ┆ … ┆ 9.9          ┆ null         ┆ null        ┆ null         │\n",
      "│          ┆ 02:08:00     ┆ 02:22:00     ┆              ┆   ┆              ┆              ┆             ┆              │\n",
      "│ …        ┆ …            ┆ …            ┆ …            ┆ … ┆ …            ┆ …            ┆ …           ┆ …            │\n",
      "│ 2        ┆ 2010-01-21   ┆ 2010-01-21   ┆ 2            ┆ … ┆ 5.6          ┆ null         ┆ null        ┆ null         │\n",
      "│          ┆ 16:53:00     ┆ 16:56:00     ┆              ┆   ┆              ┆              ┆             ┆              │\n",
      "│ 2        ┆ 2010-01-07   ┆ 2010-01-07   ┆ 1            ┆ … ┆ 5.6          ┆ null         ┆ null        ┆ null         │\n",
      "│          ┆ 18:54:00     ┆ 18:58:00     ┆              ┆   ┆              ┆              ┆             ┆              │\n",
      "│ 2        ┆ 2010-01-10   ┆ 2010-01-10   ┆ 2            ┆ … ┆ 9.4          ┆ null         ┆ null        ┆ null         │\n",
      "│          ┆ 11:41:00     ┆ 11:53:00     ┆              ┆   ┆              ┆              ┆             ┆              │\n",
      "│ 3        ┆ 2010-01-28   ┆ 2010-01-28   ┆ 2            ┆ … ┆ 10.0         ┆ null         ┆ null        ┆ null         │\n",
      "│          ┆ 19:31:28     ┆ 19:41:41     ┆              ┆   ┆              ┆              ┆             ┆              │\n",
      "│ 1        ┆ 2010-01-30   ┆ 2010-01-30   ┆ 2            ┆ … ┆ 24.77        ┆ null         ┆ null        ┆ null         │\n",
      "│          ┆ 08:08:16     ┆ 08:21:45     ┆              ┆   ┆              ┆              ┆             ┆              │\n",
      "└──────────┴──────────────┴──────────────┴──────────────┴───┴──────────────┴──────────────┴─────────────┴──────────────┘\n"
     ]
    }
   ],
   "source": [
    "print(new_2010)"
   ]
  },
  {
   "cell_type": "code",
   "execution_count": null,
   "id": "64174a8b-1d9f-4ef8-baa8-b17d5d718771",
   "metadata": {},
   "outputs": [],
   "source": []
  },
  {
   "cell_type": "markdown",
   "id": "03256de4-80a2-4771-a15f-1ee2a82fcd33",
   "metadata": {},
   "source": [
    "# TEST pour 2011\n"
   ]
  },
  {
   "cell_type": "code",
   "execution_count": 15,
   "id": "3e0da9d1-c833-4a15-8aba-fd0895b2a947",
   "metadata": {},
   "outputs": [
    {
     "name": "stdout",
     "output_type": "stream",
     "text": [
      "['C:\\\\Users\\\\stgadmin\\\\Desktop\\\\Taxi_AirFlow\\\\data\\\\test-in\\\\yellow\\\\2011\\\\yellow_tripdata_2011-01.parquet']\n"
     ]
    }
   ],
   "source": [
    "DIR = r\"C:\\Users\\stgadmin\\Desktop\\Taxi_AirFlow\\data\\test-in\\yellow\\2011\\*.parquet\"\n",
    "files = glob.glob(DIR)\n",
    "print(files)"
   ]
  },
  {
   "cell_type": "code",
   "execution_count": 16,
   "id": "4400aea5-52eb-4c98-9e2a-cd8f6fc4fda5",
   "metadata": {},
   "outputs": [
    {
     "name": "stdout",
     "output_type": "stream",
     "text": [
      "C:\\Users\\stgadmin\\Desktop\\Taxi_AirFlow\\data\\test_out\\yellow\\2011\\yellow_tripdata_2011-01.parquet\n",
      "--- START ---\n",
      "Schema({'VendorID': Int64, 'tpep_pickup_datetime': Datetime(time_unit='ns', time_zone=None), 'tpep_dropoff_datetime': Datetime(time_unit='ns', time_zone=None), 'passenger_count': Int64, 'trip_distance': Float64, 'RatecodeID': Int64, 'store_and_fwd_flag': String, 'PULocationID': Int64, 'DOLocationID': Int64, 'payment_type': Int64, 'fare_amount': Float64, 'extra': Float64, 'mta_tax': Float64, 'tip_amount': Float64, 'tolls_amount': Float64, 'improvement_surcharge': Float64, 'total_amount': Float64, 'congestion_surcharge': Float64, 'airport_fee': Float64})\n",
      "pas de coords longitude/ latitude\n",
      "Mapping started (robust version)...\n",
      "  - No value mapping needed for store_and_fwd_flag or payment_type.\n",
      "  - Missing columns detected and will be added: ['Airport_fee', 'cbd_congestion_fee']\n",
      "-> Dynamically checking and converting column types to match target schema...\n",
      "  - Mismatch found for 'VendorID': Current is Int64, Target is Int32. Converting...\n",
      "  - Mismatch found for 'tpep_pickup_datetime': Current is Datetime(time_unit='ns', time_zone=None), Target is Datetime(time_unit='us', time_zone=None). Converting...\n",
      "  - Mismatch found for 'tpep_dropoff_datetime': Current is Datetime(time_unit='ns', time_zone=None), Target is Datetime(time_unit='us', time_zone=None). Converting...\n",
      "  - Mismatch found for 'PULocationID': Current is Int64, Target is Int32. Converting...\n",
      "  - Mismatch found for 'DOLocationID': Current is Int64, Target is Int32. Converting...\n",
      "-> Step 5: Ordering columns to match the final schema...\n",
      "--- END ---\n"
     ]
    }
   ],
   "source": [
    "for file in files : \n",
    "    data = pl.scan_parquet(file)\n",
    "    file_name = file\n",
    "    file_again = file.split('\\\\')\n",
    "    file_again[6] = 'test_out'\n",
    "    file_name = ('\\\\').join(file_again)\n",
    "    print(file_name)\n",
    "    result = run_transformation(data,zones_lazy,target_schema_2025_dict)\n",
    "    result.sink_parquet(file_name) "
   ]
  },
  {
   "cell_type": "code",
   "execution_count": 17,
   "id": "29bfb908-d837-4063-8394-a960cc2babe1",
   "metadata": {},
   "outputs": [
    {
     "name": "stdout",
     "output_type": "stream",
     "text": [
      "shape: (13_464_997, 20)\n",
      "┌──────────┬──────────────┬──────────────┬──────────────┬───┬──────────────┬──────────────┬─────────────┬──────────────┐\n",
      "│ VendorID ┆ tpep_pickup_ ┆ tpep_dropoff ┆ passenger_co ┆ … ┆ total_amount ┆ congestion_s ┆ Airport_fee ┆ cbd_congesti │\n",
      "│ ---      ┆ datetime     ┆ _datetime    ┆ unt          ┆   ┆ ---          ┆ urcharge     ┆ ---         ┆ on_fee       │\n",
      "│ i32      ┆ ---          ┆ ---          ┆ ---          ┆   ┆ f64          ┆ ---          ┆ f64         ┆ ---          │\n",
      "│          ┆ datetime[μs] ┆ datetime[μs] ┆ i64          ┆   ┆              ┆ f64          ┆             ┆ f64          │\n",
      "╞══════════╪══════════════╪══════════════╪══════════════╪═══╪══════════════╪══════════════╪═════════════╪══════════════╡\n",
      "│ 2        ┆ 2011-01-01   ┆ 2011-01-01   ┆ 4            ┆ … ┆ 4.18         ┆ null         ┆ null        ┆ null         │\n",
      "│          ┆ 00:10:00     ┆ 00:12:00     ┆              ┆   ┆              ┆              ┆             ┆              │\n",
      "│ 2        ┆ 2011-01-01   ┆ 2011-01-01   ┆ 4            ┆ … ┆ 6.94         ┆ null         ┆ null        ┆ null         │\n",
      "│          ┆ 00:04:00     ┆ 00:13:00     ┆              ┆   ┆              ┆              ┆             ┆              │\n",
      "│ 2        ┆ 2011-01-01   ┆ 2011-01-01   ┆ 4            ┆ … ┆ 5.01         ┆ null         ┆ null        ┆ null         │\n",
      "│          ┆ 00:14:00     ┆ 00:16:00     ┆              ┆   ┆              ┆              ┆             ┆              │\n",
      "│ 2        ┆ 2011-01-01   ┆ 2011-01-01   ┆ 5            ┆ … ┆ 3.9          ┆ null         ┆ null        ┆ null         │\n",
      "│          ┆ 00:04:00     ┆ 00:06:00     ┆              ┆   ┆              ┆              ┆             ┆              │\n",
      "│ 2        ┆ 2011-01-01   ┆ 2011-01-01   ┆ 5            ┆ … ┆ 3.61         ┆ null         ┆ null        ┆ null         │\n",
      "│          ┆ 00:08:00     ┆ 00:08:00     ┆              ┆   ┆              ┆              ┆             ┆              │\n",
      "│ …        ┆ …            ┆ …            ┆ …            ┆ … ┆ …            ┆ …            ┆ …           ┆ …            │\n",
      "│ 1        ┆ 2011-01-31   ┆ 2011-01-31   ┆ 4            ┆ … ┆ 4.3          ┆ null         ┆ null        ┆ null         │\n",
      "│          ┆ 23:38:17     ┆ 23:40:39     ┆              ┆   ┆              ┆              ┆             ┆              │\n",
      "│ 1        ┆ 2011-01-31   ┆ 2011-02-01   ┆ 2            ┆ … ┆ 8.7          ┆ null         ┆ null        ┆ null         │\n",
      "│          ┆ 23:49:55     ┆ 00:01:00     ┆              ┆   ┆              ┆              ┆             ┆              │\n",
      "│ 1        ┆ 2011-01-31   ┆ 2011-01-31   ┆ 1            ┆ … ┆ 8.7          ┆ null         ┆ null        ┆ null         │\n",
      "│          ┆ 23:23:48     ┆ 23:34:27     ┆              ┆   ┆              ┆              ┆             ┆              │\n",
      "│ 1        ┆ 2011-01-31   ┆ 2011-01-31   ┆ 1            ┆ … ┆ 11.5         ┆ null         ┆ null        ┆ null         │\n",
      "│          ┆ 23:48:06     ┆ 23:59:51     ┆              ┆   ┆              ┆              ┆             ┆              │\n",
      "│ 1        ┆ 2011-01-31   ┆ 2011-01-31   ┆ 2            ┆ … ┆ 7.1          ┆ null         ┆ null        ┆ null         │\n",
      "│          ┆ 23:04:48     ┆ 23:11:02     ┆              ┆   ┆              ┆              ┆             ┆              │\n",
      "└──────────┴──────────────┴──────────────┴──────────────┴───┴──────────────┴──────────────┴─────────────┴──────────────┘\n"
     ]
    }
   ],
   "source": [
    "new_2011 = pl.scan_parquet(r\"C:\\Users\\stgadmin\\Desktop\\Taxi_AirFlow\\data\\test_out\\yellow\\2011\\yellow_tripdata_2011-01.parquet\").collect()\n",
    "print(new_2011)"
   ]
  },
  {
   "cell_type": "markdown",
   "id": "ccaf0da6-82fb-4e0b-9051-91c4274b3148",
   "metadata": {},
   "source": [
    "# TEST POUR 2012\n"
   ]
  },
  {
   "cell_type": "code",
   "execution_count": 7,
   "id": "30787f46-7526-4f40-b20c-4ca1d2a42ada",
   "metadata": {},
   "outputs": [
    {
     "name": "stdout",
     "output_type": "stream",
     "text": [
      "['C:\\\\Users\\\\stgadmin\\\\Desktop\\\\Taxi_AirFlow\\\\data\\\\test-in\\\\yellow\\\\2012\\\\yellow_tripdata_2012-01.parquet']\n"
     ]
    }
   ],
   "source": [
    "DIR = r\"C:\\Users\\stgadmin\\Desktop\\Taxi_AirFlow\\data\\test-in\\yellow\\2012\\*.parquet\"\n",
    "files = glob.glob(DIR)\n",
    "print(files)"
   ]
  },
  {
   "cell_type": "code",
   "execution_count": 8,
   "id": "50c69838-f335-40f7-bd3e-96b6678a6781",
   "metadata": {},
   "outputs": [
    {
     "name": "stdout",
     "output_type": "stream",
     "text": [
      "Schema({'VendorID': Int64, 'tpep_pickup_datetime': Datetime(time_unit='ns', time_zone=None), 'tpep_dropoff_datetime': Datetime(time_unit='ns', time_zone=None), 'passenger_count': Int64, 'trip_distance': Float64, 'RatecodeID': Int64, 'store_and_fwd_flag': String, 'PULocationID': Int64, 'DOLocationID': Int64, 'payment_type': Int64, 'fare_amount': Float64, 'extra': Float64, 'mta_tax': Float64, 'tip_amount': Float64, 'tolls_amount': Float64, 'improvement_surcharge': Float64, 'total_amount': Float64, 'congestion_surcharge': Null, 'airport_fee': Null})\n"
     ]
    }
   ],
   "source": [
    "print(pl.scan_parquet(files[0]).collect_schema())"
   ]
  },
  {
   "cell_type": "code",
   "execution_count": 9,
   "id": "4c7c38cf-72ec-4d62-ad2d-7ad97b07733e",
   "metadata": {},
   "outputs": [
    {
     "data": {
      "text/plain": [
       "Schema([('VendorID', Int32),\n",
       "        ('tpep_pickup_datetime', Datetime(time_unit='us', time_zone=None)),\n",
       "        ('tpep_dropoff_datetime', Datetime(time_unit='us', time_zone=None)),\n",
       "        ('passenger_count', Int64),\n",
       "        ('trip_distance', Float64),\n",
       "        ('RatecodeID', Int64),\n",
       "        ('store_and_fwd_flag', String),\n",
       "        ('PULocationID', Int32),\n",
       "        ('DOLocationID', Int32),\n",
       "        ('payment_type', Int64),\n",
       "        ('fare_amount', Float64),\n",
       "        ('extra', Float64),\n",
       "        ('mta_tax', Float64),\n",
       "        ('tip_amount', Float64),\n",
       "        ('tolls_amount', Float64),\n",
       "        ('improvement_surcharge', Float64),\n",
       "        ('total_amount', Float64),\n",
       "        ('congestion_surcharge', Float64),\n",
       "        ('Airport_fee', Float64),\n",
       "        ('cbd_congestion_fee', Float64)])"
      ]
     },
     "execution_count": 9,
     "metadata": {},
     "output_type": "execute_result"
    }
   ],
   "source": [
    "target_schema_2025_dict"
   ]
  },
  {
   "cell_type": "code",
   "execution_count": 10,
   "id": "900ef23f-0334-4a62-a152-766e86a3b5d7",
   "metadata": {},
   "outputs": [
    {
     "name": "stdout",
     "output_type": "stream",
     "text": [
      "C:\\Users\\stgadmin\\Desktop\\Taxi_AirFlow\\data\\test_out\\yellow\\2012\\yellow_tripdata_2012-01.parquet\n",
      "--- START ---\n",
      "airport_fee Airport_fee\n",
      "Schema({'VendorID': Int64, 'tpep_pickup_datetime': Datetime(time_unit='ns', time_zone=None), 'tpep_dropoff_datetime': Datetime(time_unit='ns', time_zone=None), 'passenger_count': Int64, 'trip_distance': Float64, 'RatecodeID': Int64, 'store_and_fwd_flag': String, 'PULocationID': Int64, 'DOLocationID': Int64, 'payment_type': Int64, 'fare_amount': Float64, 'extra': Float64, 'mta_tax': Float64, 'tip_amount': Float64, 'tolls_amount': Float64, 'improvement_surcharge': Float64, 'total_amount': Float64, 'congestion_surcharge': Null, 'Airport_fee': Null})\n",
      "pas de coords longitude/ latitude\n",
      "Mapping started (robust version)...\n",
      "  - No value mapping needed for store_and_fwd_flag or payment_type.\n",
      "  - Missing columns detected and will be added: ['cbd_congestion_fee']\n",
      "-> Dynamically checking and converting column types to match target schema...\n",
      "  - Mismatch found for 'VendorID': Current is Int64, Target is Int32. Converting...\n",
      "  - Mismatch found for 'tpep_pickup_datetime': Current is Datetime(time_unit='ns', time_zone=None), Target is Datetime(time_unit='us', time_zone=None). Converting...\n",
      "  - Mismatch found for 'tpep_dropoff_datetime': Current is Datetime(time_unit='ns', time_zone=None), Target is Datetime(time_unit='us', time_zone=None). Converting...\n",
      "  - Mismatch found for 'PULocationID': Current is Int64, Target is Int32. Converting...\n",
      "  - Mismatch found for 'DOLocationID': Current is Int64, Target is Int32. Converting...\n",
      "  - Mismatch found for 'congestion_surcharge': Current is Null, Target is Float64. Converting...\n",
      "  - Mismatch found for 'Airport_fee': Current is Null, Target is Float64. Converting...\n",
      "-> Step 5: Ordering columns to match the final schema...\n",
      "--- END ---\n"
     ]
    },
    {
     "name": "stderr",
     "output_type": "stream",
     "text": [
      "C:\\Users\\stgadmin\\Desktop\\Taxi_AirFlow\\scripts\\transformation.py:12: PerformanceWarning: Determining the column names of a LazyFrame requires resolving its schema, which is a potentially expensive operation. Use `LazyFrame.collect_schema().names()` to get the column names without this warning.\n",
      "  if not required_cols.issubset(data_lazy.columns):\n",
      "C:\\Users\\stgadmin\\Desktop\\Taxi_AirFlow\\scripts\\transformation.py:380: PerformanceWarning: Determining the column names of a LazyFrame requires resolving its schema, which is a potentially expensive operation. Use `LazyFrame.collect_schema().names()` to get the column names without this warning.\n",
      "  current_columns = set(lazy_df.columns)\n"
     ]
    }
   ],
   "source": [
    "for file in files : \n",
    "    data = pl.scan_parquet(file)\n",
    "    file_name = file\n",
    "    file_again = file.split('\\\\')\n",
    "    file_again[6] = 'test_out'\n",
    "    file_name = ('\\\\').join(file_again)\n",
    "    print(file_name)\n",
    "    result = run_transformation(data,zones_lazy,target_schema_2025_dict)\n",
    "    result.sink_parquet(file_name) "
   ]
  },
  {
   "cell_type": "markdown",
   "id": "298d193f-2aef-4167-bf4f-b2f7f923002b",
   "metadata": {},
   "source": [
    "# TEST POUR TOUTES LES ANNEES"
   ]
  },
  {
   "cell_type": "code",
   "execution_count": 11,
   "id": "b79f1262-dc47-452b-89a5-95b7ac211512",
   "metadata": {},
   "outputs": [
    {
     "name": "stdout",
     "output_type": "stream",
     "text": [
      "['C:\\\\Users\\\\stgadmin\\\\Desktop\\\\Taxi_AirFlow\\\\data\\\\test-in\\\\yellow\\\\2009\\\\yellow_tripdata_2009_all.parquet', 'C:\\\\Users\\\\stgadmin\\\\Desktop\\\\Taxi_AirFlow\\\\data\\\\test-in\\\\yellow\\\\2010\\\\yellow_tripdata_2010-01.parquet', 'C:\\\\Users\\\\stgadmin\\\\Desktop\\\\Taxi_AirFlow\\\\data\\\\test-in\\\\yellow\\\\2011\\\\yellow_tripdata_2011-01.parquet', 'C:\\\\Users\\\\stgadmin\\\\Desktop\\\\Taxi_AirFlow\\\\data\\\\test-in\\\\yellow\\\\2012\\\\yellow_tripdata_2012-01.parquet', 'C:\\\\Users\\\\stgadmin\\\\Desktop\\\\Taxi_AirFlow\\\\data\\\\test-in\\\\yellow\\\\2013\\\\yellow_tripdata_2013-01.parquet', 'C:\\\\Users\\\\stgadmin\\\\Desktop\\\\Taxi_AirFlow\\\\data\\\\test-in\\\\yellow\\\\2014\\\\yellow_tripdata_2014-01.parquet', 'C:\\\\Users\\\\stgadmin\\\\Desktop\\\\Taxi_AirFlow\\\\data\\\\test-in\\\\yellow\\\\2015\\\\yellow_tripdata_2015-01.parquet', 'C:\\\\Users\\\\stgadmin\\\\Desktop\\\\Taxi_AirFlow\\\\data\\\\test-in\\\\yellow\\\\2016\\\\yellow_tripdata_2016-01.parquet', 'C:\\\\Users\\\\stgadmin\\\\Desktop\\\\Taxi_AirFlow\\\\data\\\\test-in\\\\yellow\\\\2017\\\\yellow_tripdata_2017-01.parquet', 'C:\\\\Users\\\\stgadmin\\\\Desktop\\\\Taxi_AirFlow\\\\data\\\\test-in\\\\yellow\\\\2018\\\\yellow_tripdata_2018-01.parquet', 'C:\\\\Users\\\\stgadmin\\\\Desktop\\\\Taxi_AirFlow\\\\data\\\\test-in\\\\yellow\\\\2019\\\\yellow_tripdata_2019-01.parquet', 'C:\\\\Users\\\\stgadmin\\\\Desktop\\\\Taxi_AirFlow\\\\data\\\\test-in\\\\yellow\\\\2020\\\\yellow_tripdata_2020-01.parquet', 'C:\\\\Users\\\\stgadmin\\\\Desktop\\\\Taxi_AirFlow\\\\data\\\\test-in\\\\yellow\\\\2021\\\\yellow_tripdata_2021-01.parquet', 'C:\\\\Users\\\\stgadmin\\\\Desktop\\\\Taxi_AirFlow\\\\data\\\\test-in\\\\yellow\\\\2022\\\\yellow_tripdata_2022-01.parquet', 'C:\\\\Users\\\\stgadmin\\\\Desktop\\\\Taxi_AirFlow\\\\data\\\\test-in\\\\yellow\\\\2023\\\\yellow_tripdata_2023-01.parquet', 'C:\\\\Users\\\\stgadmin\\\\Desktop\\\\Taxi_AirFlow\\\\data\\\\test-in\\\\yellow\\\\2024\\\\yellow_tripdata_2024-01.parquet', 'C:\\\\Users\\\\stgadmin\\\\Desktop\\\\Taxi_AirFlow\\\\data\\\\test-in\\\\yellow\\\\2025\\\\yellow_tripdata_2025-01.parquet']\n"
     ]
    }
   ],
   "source": [
    "DIR = r\"C:\\Users\\stgadmin\\Desktop\\Taxi_AirFlow\\data\\test-in\\yellow\\**\\*.parquet\"\n",
    "files = glob.glob(DIR)\n",
    "print(files)"
   ]
  },
  {
   "cell_type": "code",
   "execution_count": null,
   "id": "881a9526-da5f-47e7-bad9-3139b581e227",
   "metadata": {},
   "outputs": [
    {
     "name": "stdout",
     "output_type": "stream",
     "text": [
      "C:\\Users\\stgadmin\\Desktop\\Taxi_AirFlow\\data\\test_out\\yellow\\2009\\yellow_tripdata_2009_all.parquet\n",
      "--- START ---\n",
      "Trip_Pickup_DateTime tpep_pickup_datetime\n",
      "Trip_Dropoff_DateTime tpep_dropoff_datetime\n",
      "Passenger_Count passenger_count\n",
      "Trip_Distance trip_distance\n",
      "Rate_Code RatecodeID\n",
      "store_and_forward store_and_fwd_flag\n",
      "Payment_Type payment_type\n",
      "Fare_Amt fare_amount\n",
      "surcharge extra\n",
      "Tip_Amt tip_amount\n",
      "Tolls_Amt tolls_amount\n",
      "Total_Amt total_amount\n",
      "Schema({'vendor_name': String, 'tpep_pickup_datetime': String, 'tpep_dropoff_datetime': String, 'passenger_count': Int64, 'trip_distance': Float64, 'Start_Lon': Float64, 'Start_Lat': Float64, 'RatecodeID': Float64, 'store_and_fwd_flag': Float64, 'End_Lon': Float64, 'End_Lat': Float64, 'payment_type': String, 'fare_amount': Float64, 'extra': Float64, 'mta_tax': Float64, 'tip_amount': Float64, 'tolls_amount': Float64, 'total_amount': Float64})\n",
      "Mapping started (robust version)...\n",
      "  - Converting 'store_and_fwd_flag'...\n",
      "  - Converting 'payment_type'...\n",
      "  - Missing columns detected and will be added: ['Airport_fee', 'cbd_congestion_fee', 'congestion_surcharge', 'improvement_surcharge']\n",
      "-> Dynamically checking and converting column types to match target schema...\n",
      "  - Mismatch found for 'VendorID': Current is Int64, Target is Int32. Converting...\n",
      "  - Mismatch found for 'tpep_pickup_datetime': Current is String, Target is Datetime(time_unit='us', time_zone=None). Converting...\n",
      "  - Mismatch found for 'tpep_dropoff_datetime': Current is String, Target is Datetime(time_unit='us', time_zone=None). Converting...\n",
      "  - Mismatch found for 'RatecodeID': Current is Float64, Target is Int64. Converting...\n",
      "-> Step 5: Ordering columns to match the final schema...\n",
      "--- END ---\n",
      "C:\\Users\\stgadmin\\Desktop\\Taxi_AirFlow\\data\\test_out\\yellow\\2010\\yellow_tripdata_2010-01.parquet\n",
      "--- START ---\n",
      "pickup_datetime tpep_pickup_datetime\n",
      "dropoff_datetime tpep_dropoff_datetime\n",
      "rate_code RatecodeID\n",
      "surcharge extra\n",
      "vendor_id VendorID\n",
      "pickup_longitude Start_Lon\n",
      "pickup_latitude Start_Lat\n",
      "dropoff_longitude End_Lon\n",
      "dropoff_latitude End_Lat\n",
      "Schema({'VendorID': String, 'tpep_pickup_datetime': String, 'tpep_dropoff_datetime': String, 'passenger_count': Int64, 'trip_distance': Float64, 'Start_Lon': Float64, 'Start_Lat': Float64, 'RatecodeID': String, 'store_and_fwd_flag': String, 'End_Lon': Float64, 'End_Lat': Float64, 'payment_type': String, 'fare_amount': Float64, 'extra': Float64, 'mta_tax': Float64, 'tip_amount': Float64, 'tolls_amount': Float64, 'total_amount': Float64})\n",
      "Mapping started (robust version)...\n",
      "  - Converting 'payment_type'...\n",
      "  - Missing columns detected and will be added: ['Airport_fee', 'cbd_congestion_fee', 'congestion_surcharge', 'improvement_surcharge']\n",
      "-> Dynamically checking and converting column types to match target schema...\n",
      "  - Mismatch found for 'VendorID': Current is Int64, Target is Int32. Converting...\n",
      "  - Mismatch found for 'tpep_pickup_datetime': Current is String, Target is Datetime(time_unit='us', time_zone=None). Converting...\n",
      "  - Mismatch found for 'tpep_dropoff_datetime': Current is String, Target is Datetime(time_unit='us', time_zone=None). Converting...\n",
      "  - Mismatch found for 'RatecodeID': Current is String, Target is Int64. Converting...\n",
      "-> Step 5: Ordering columns to match the final schema...\n",
      "--- END ---\n"
     ]
    }
   ],
   "source": [
    "for file in files : \n",
    "    data = pl.scan_parquet(file)\n",
    "    file_name = file\n",
    "    file_again = file.split('\\\\')\n",
    "    file_again[6] = 'test_out'\n",
    "    file_name = ('\\\\').join(file_again)\n",
    "    print(file_name)\n",
    "    result = run_transformation(data,zones_lazy,target_schema_2025_dict)\n",
    "    result.sink_parquet(file_name) "
   ]
  },
  {
   "cell_type": "code",
   "execution_count": null,
   "id": "4eee829d-a97a-4d2f-a0c5-50ffcc533bbd",
   "metadata": {},
   "outputs": [],
   "source": []
  }
 ],
 "metadata": {
  "kernelspec": {
   "display_name": "Python 3 (ipykernel)",
   "language": "python",
   "name": "python3"
  },
  "language_info": {
   "codemirror_mode": {
    "name": "ipython",
    "version": 3
   },
   "file_extension": ".py",
   "mimetype": "text/x-python",
   "name": "python",
   "nbconvert_exporter": "python",
   "pygments_lexer": "ipython3",
   "version": "3.12.11"
  }
 },
 "nbformat": 4,
 "nbformat_minor": 5
}
